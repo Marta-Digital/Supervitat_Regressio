{
 "cells": [
  {
   "cell_type": "markdown",
   "metadata": {},
   "source": [
    "![logo](banner.jpg)"
   ]
  },
  {
   "cell_type": "markdown",
   "metadata": {},
   "source": [
    "<h1><center><span style=\"color:blue\">TASCA 13 - IT Academy</span></center></h1>\n",
    "<h2><center><span style=\"color:blue\">Curs Data Science</span></center></h2>"
   ]
  },
  {
   "cell_type": "code",
   "execution_count": 197,
   "metadata": {},
   "outputs": [],
   "source": [
    "import pandas as pd\n",
    "import numpy as np\n",
    "from numpy import random\n",
    "import pandas as pd\n",
    "from datetime import datetime\n",
    "import statistics as stat\n",
    "import seaborn as sns\n",
    "import matplotlib.pyplot as plt\n",
    "from matplotlib.pyplot import figure\n",
    "from pyod.models.knn import KNN\n",
    "from sklearn.preprocessing import StandardScaler\n",
    "from sklearn.preprocessing import MinMaxScaler\n",
    "import sklearn\n",
    "from sklearn.decomposition import PCA\n",
    "from sklearn.cluster import DBSCAN\n",
    "import sklearn.neighbors\n",
    "from sklearn.neighbors import kneighbors_graph\n",
    "from sklearn.datasets import make_blobs\n",
    "from sklearn.model_selection import train_test_split \n",
    "from sklearn.linear_model import LinearRegression\n",
    "from sklearn.preprocessing import PolynomialFeatures\n",
    "from sklearn.metrics import mean_absolute_error, mean_squared_error, r2_score \n",
    "from sklearn.ensemble import RandomForestRegressor\n",
    "from scipy import stats\n",
    "\n",
    "#pd.options.display.float_format = '{:.0f}'.format"
   ]
  },
  {
   "cell_type": "code",
   "execution_count": 2,
   "metadata": {},
   "outputs": [],
   "source": [
    "# Aprovechamos la exploración inicial realizada en la Tarea 12 (Tasca Train_Test) para la presente Tarea. En este caso, el \n",
    "# tanto el Scatterplot como la Correlation Matrix nos aportan mucha información sobre la relación entre las variables númericas. "
   ]
  },
  {
   "cell_type": "code",
   "execution_count": 3,
   "metadata": {},
   "outputs": [],
   "source": [
    "file=pd.read_csv(\"DelayedFlights.csv\", sep=\",\", encoding='utf8')"
   ]
  },
  {
   "cell_type": "code",
   "execution_count": 4,
   "metadata": {},
   "outputs": [
    {
     "data": {
      "text/html": [
       "<div>\n",
       "<style scoped>\n",
       "    .dataframe tbody tr th:only-of-type {\n",
       "        vertical-align: middle;\n",
       "    }\n",
       "\n",
       "    .dataframe tbody tr th {\n",
       "        vertical-align: top;\n",
       "    }\n",
       "\n",
       "    .dataframe thead th {\n",
       "        text-align: right;\n",
       "    }\n",
       "</style>\n",
       "<table border=\"1\" class=\"dataframe\">\n",
       "  <thead>\n",
       "    <tr style=\"text-align: right;\">\n",
       "      <th></th>\n",
       "      <th>Unnamed: 0</th>\n",
       "      <th>Year</th>\n",
       "      <th>Month</th>\n",
       "      <th>DayofMonth</th>\n",
       "      <th>DayOfWeek</th>\n",
       "      <th>DepTime</th>\n",
       "      <th>CRSDepTime</th>\n",
       "      <th>ArrTime</th>\n",
       "      <th>CRSArrTime</th>\n",
       "      <th>UniqueCarrier</th>\n",
       "      <th>...</th>\n",
       "      <th>TaxiIn</th>\n",
       "      <th>TaxiOut</th>\n",
       "      <th>Cancelled</th>\n",
       "      <th>CancellationCode</th>\n",
       "      <th>Diverted</th>\n",
       "      <th>CarrierDelay</th>\n",
       "      <th>WeatherDelay</th>\n",
       "      <th>NASDelay</th>\n",
       "      <th>SecurityDelay</th>\n",
       "      <th>LateAircraftDelay</th>\n",
       "    </tr>\n",
       "  </thead>\n",
       "  <tbody>\n",
       "    <tr>\n",
       "      <th>0</th>\n",
       "      <td>0</td>\n",
       "      <td>2008</td>\n",
       "      <td>1</td>\n",
       "      <td>3</td>\n",
       "      <td>4</td>\n",
       "      <td>2003.0</td>\n",
       "      <td>1955</td>\n",
       "      <td>2211.0</td>\n",
       "      <td>2225</td>\n",
       "      <td>WN</td>\n",
       "      <td>...</td>\n",
       "      <td>4.0</td>\n",
       "      <td>8.0</td>\n",
       "      <td>0</td>\n",
       "      <td>N</td>\n",
       "      <td>0</td>\n",
       "      <td>NaN</td>\n",
       "      <td>NaN</td>\n",
       "      <td>NaN</td>\n",
       "      <td>NaN</td>\n",
       "      <td>NaN</td>\n",
       "    </tr>\n",
       "    <tr>\n",
       "      <th>1</th>\n",
       "      <td>1</td>\n",
       "      <td>2008</td>\n",
       "      <td>1</td>\n",
       "      <td>3</td>\n",
       "      <td>4</td>\n",
       "      <td>754.0</td>\n",
       "      <td>735</td>\n",
       "      <td>1002.0</td>\n",
       "      <td>1000</td>\n",
       "      <td>WN</td>\n",
       "      <td>...</td>\n",
       "      <td>5.0</td>\n",
       "      <td>10.0</td>\n",
       "      <td>0</td>\n",
       "      <td>N</td>\n",
       "      <td>0</td>\n",
       "      <td>NaN</td>\n",
       "      <td>NaN</td>\n",
       "      <td>NaN</td>\n",
       "      <td>NaN</td>\n",
       "      <td>NaN</td>\n",
       "    </tr>\n",
       "    <tr>\n",
       "      <th>2</th>\n",
       "      <td>2</td>\n",
       "      <td>2008</td>\n",
       "      <td>1</td>\n",
       "      <td>3</td>\n",
       "      <td>4</td>\n",
       "      <td>628.0</td>\n",
       "      <td>620</td>\n",
       "      <td>804.0</td>\n",
       "      <td>750</td>\n",
       "      <td>WN</td>\n",
       "      <td>...</td>\n",
       "      <td>3.0</td>\n",
       "      <td>17.0</td>\n",
       "      <td>0</td>\n",
       "      <td>N</td>\n",
       "      <td>0</td>\n",
       "      <td>NaN</td>\n",
       "      <td>NaN</td>\n",
       "      <td>NaN</td>\n",
       "      <td>NaN</td>\n",
       "      <td>NaN</td>\n",
       "    </tr>\n",
       "    <tr>\n",
       "      <th>3</th>\n",
       "      <td>4</td>\n",
       "      <td>2008</td>\n",
       "      <td>1</td>\n",
       "      <td>3</td>\n",
       "      <td>4</td>\n",
       "      <td>1829.0</td>\n",
       "      <td>1755</td>\n",
       "      <td>1959.0</td>\n",
       "      <td>1925</td>\n",
       "      <td>WN</td>\n",
       "      <td>...</td>\n",
       "      <td>3.0</td>\n",
       "      <td>10.0</td>\n",
       "      <td>0</td>\n",
       "      <td>N</td>\n",
       "      <td>0</td>\n",
       "      <td>2.0</td>\n",
       "      <td>0.0</td>\n",
       "      <td>0.0</td>\n",
       "      <td>0.0</td>\n",
       "      <td>32.0</td>\n",
       "    </tr>\n",
       "    <tr>\n",
       "      <th>4</th>\n",
       "      <td>5</td>\n",
       "      <td>2008</td>\n",
       "      <td>1</td>\n",
       "      <td>3</td>\n",
       "      <td>4</td>\n",
       "      <td>1940.0</td>\n",
       "      <td>1915</td>\n",
       "      <td>2121.0</td>\n",
       "      <td>2110</td>\n",
       "      <td>WN</td>\n",
       "      <td>...</td>\n",
       "      <td>4.0</td>\n",
       "      <td>10.0</td>\n",
       "      <td>0</td>\n",
       "      <td>N</td>\n",
       "      <td>0</td>\n",
       "      <td>NaN</td>\n",
       "      <td>NaN</td>\n",
       "      <td>NaN</td>\n",
       "      <td>NaN</td>\n",
       "      <td>NaN</td>\n",
       "    </tr>\n",
       "  </tbody>\n",
       "</table>\n",
       "<p>5 rows × 30 columns</p>\n",
       "</div>"
      ],
      "text/plain": [
       "   Unnamed: 0  Year  Month  DayofMonth  DayOfWeek  DepTime  CRSDepTime  \\\n",
       "0           0  2008      1           3          4   2003.0        1955   \n",
       "1           1  2008      1           3          4    754.0         735   \n",
       "2           2  2008      1           3          4    628.0         620   \n",
       "3           4  2008      1           3          4   1829.0        1755   \n",
       "4           5  2008      1           3          4   1940.0        1915   \n",
       "\n",
       "   ArrTime  CRSArrTime UniqueCarrier  ...  TaxiIn TaxiOut  Cancelled  \\\n",
       "0   2211.0        2225            WN  ...     4.0     8.0          0   \n",
       "1   1002.0        1000            WN  ...     5.0    10.0          0   \n",
       "2    804.0         750            WN  ...     3.0    17.0          0   \n",
       "3   1959.0        1925            WN  ...     3.0    10.0          0   \n",
       "4   2121.0        2110            WN  ...     4.0    10.0          0   \n",
       "\n",
       "   CancellationCode  Diverted  CarrierDelay  WeatherDelay NASDelay  \\\n",
       "0                 N         0           NaN           NaN      NaN   \n",
       "1                 N         0           NaN           NaN      NaN   \n",
       "2                 N         0           NaN           NaN      NaN   \n",
       "3                 N         0           2.0           0.0      0.0   \n",
       "4                 N         0           NaN           NaN      NaN   \n",
       "\n",
       "  SecurityDelay  LateAircraftDelay  \n",
       "0           NaN                NaN  \n",
       "1           NaN                NaN  \n",
       "2           NaN                NaN  \n",
       "3           0.0               32.0  \n",
       "4           NaN                NaN  \n",
       "\n",
       "[5 rows x 30 columns]"
      ]
     },
     "execution_count": 4,
     "metadata": {},
     "output_type": "execute_result"
    }
   ],
   "source": [
    "file.head()"
   ]
  },
  {
   "cell_type": "code",
   "execution_count": 5,
   "metadata": {
    "scrolled": true
   },
   "outputs": [
    {
     "data": {
      "text/html": [
       "<div>\n",
       "<style scoped>\n",
       "    .dataframe tbody tr th:only-of-type {\n",
       "        vertical-align: middle;\n",
       "    }\n",
       "\n",
       "    .dataframe tbody tr th {\n",
       "        vertical-align: top;\n",
       "    }\n",
       "\n",
       "    .dataframe thead th {\n",
       "        text-align: right;\n",
       "    }\n",
       "</style>\n",
       "<table border=\"1\" class=\"dataframe\">\n",
       "  <thead>\n",
       "    <tr style=\"text-align: right;\">\n",
       "      <th></th>\n",
       "      <th>Unnamed: 0</th>\n",
       "      <th>Year</th>\n",
       "      <th>Month</th>\n",
       "      <th>DayofMonth</th>\n",
       "      <th>DayOfWeek</th>\n",
       "      <th>DepTime</th>\n",
       "      <th>CRSDepTime</th>\n",
       "      <th>ArrTime</th>\n",
       "      <th>CRSArrTime</th>\n",
       "      <th>FlightNum</th>\n",
       "      <th>...</th>\n",
       "      <th>Distance</th>\n",
       "      <th>TaxiIn</th>\n",
       "      <th>TaxiOut</th>\n",
       "      <th>Cancelled</th>\n",
       "      <th>Diverted</th>\n",
       "      <th>CarrierDelay</th>\n",
       "      <th>WeatherDelay</th>\n",
       "      <th>NASDelay</th>\n",
       "      <th>SecurityDelay</th>\n",
       "      <th>LateAircraftDelay</th>\n",
       "    </tr>\n",
       "  </thead>\n",
       "  <tbody>\n",
       "    <tr>\n",
       "      <th>count</th>\n",
       "      <td>1936758.00</td>\n",
       "      <td>1936758.0</td>\n",
       "      <td>1936758.00</td>\n",
       "      <td>1936758.00</td>\n",
       "      <td>1936758.00</td>\n",
       "      <td>1936758.00</td>\n",
       "      <td>1936758.00</td>\n",
       "      <td>1929648.00</td>\n",
       "      <td>1936758.00</td>\n",
       "      <td>1936758.00</td>\n",
       "      <td>...</td>\n",
       "      <td>1936758.00</td>\n",
       "      <td>1929648.00</td>\n",
       "      <td>1936303.00</td>\n",
       "      <td>1936758.00</td>\n",
       "      <td>1936758.00</td>\n",
       "      <td>1247488.00</td>\n",
       "      <td>1247488.00</td>\n",
       "      <td>1247488.00</td>\n",
       "      <td>1247488.00</td>\n",
       "      <td>1247488.00</td>\n",
       "    </tr>\n",
       "    <tr>\n",
       "      <th>mean</th>\n",
       "      <td>3341651.15</td>\n",
       "      <td>2008.0</td>\n",
       "      <td>6.11</td>\n",
       "      <td>15.75</td>\n",
       "      <td>3.98</td>\n",
       "      <td>1518.53</td>\n",
       "      <td>1467.47</td>\n",
       "      <td>1610.14</td>\n",
       "      <td>1634.22</td>\n",
       "      <td>2184.26</td>\n",
       "      <td>...</td>\n",
       "      <td>765.69</td>\n",
       "      <td>6.81</td>\n",
       "      <td>18.23</td>\n",
       "      <td>0.00</td>\n",
       "      <td>0.00</td>\n",
       "      <td>19.18</td>\n",
       "      <td>3.70</td>\n",
       "      <td>15.02</td>\n",
       "      <td>0.09</td>\n",
       "      <td>25.30</td>\n",
       "    </tr>\n",
       "    <tr>\n",
       "      <th>std</th>\n",
       "      <td>2066064.96</td>\n",
       "      <td>0.0</td>\n",
       "      <td>3.48</td>\n",
       "      <td>8.78</td>\n",
       "      <td>2.00</td>\n",
       "      <td>450.49</td>\n",
       "      <td>424.77</td>\n",
       "      <td>548.18</td>\n",
       "      <td>464.63</td>\n",
       "      <td>1944.70</td>\n",
       "      <td>...</td>\n",
       "      <td>574.48</td>\n",
       "      <td>5.27</td>\n",
       "      <td>14.34</td>\n",
       "      <td>0.02</td>\n",
       "      <td>0.06</td>\n",
       "      <td>43.55</td>\n",
       "      <td>21.49</td>\n",
       "      <td>33.83</td>\n",
       "      <td>2.02</td>\n",
       "      <td>42.05</td>\n",
       "    </tr>\n",
       "    <tr>\n",
       "      <th>min</th>\n",
       "      <td>0.00</td>\n",
       "      <td>2008.0</td>\n",
       "      <td>1.00</td>\n",
       "      <td>1.00</td>\n",
       "      <td>1.00</td>\n",
       "      <td>1.00</td>\n",
       "      <td>0.00</td>\n",
       "      <td>1.00</td>\n",
       "      <td>0.00</td>\n",
       "      <td>1.00</td>\n",
       "      <td>...</td>\n",
       "      <td>11.00</td>\n",
       "      <td>0.00</td>\n",
       "      <td>0.00</td>\n",
       "      <td>0.00</td>\n",
       "      <td>0.00</td>\n",
       "      <td>0.00</td>\n",
       "      <td>0.00</td>\n",
       "      <td>0.00</td>\n",
       "      <td>0.00</td>\n",
       "      <td>0.00</td>\n",
       "    </tr>\n",
       "    <tr>\n",
       "      <th>25%</th>\n",
       "      <td>1517452.50</td>\n",
       "      <td>2008.0</td>\n",
       "      <td>3.00</td>\n",
       "      <td>8.00</td>\n",
       "      <td>2.00</td>\n",
       "      <td>1203.00</td>\n",
       "      <td>1135.00</td>\n",
       "      <td>1316.00</td>\n",
       "      <td>1325.00</td>\n",
       "      <td>610.00</td>\n",
       "      <td>...</td>\n",
       "      <td>338.00</td>\n",
       "      <td>4.00</td>\n",
       "      <td>10.00</td>\n",
       "      <td>0.00</td>\n",
       "      <td>0.00</td>\n",
       "      <td>0.00</td>\n",
       "      <td>0.00</td>\n",
       "      <td>0.00</td>\n",
       "      <td>0.00</td>\n",
       "      <td>0.00</td>\n",
       "    </tr>\n",
       "    <tr>\n",
       "      <th>50%</th>\n",
       "      <td>3242558.00</td>\n",
       "      <td>2008.0</td>\n",
       "      <td>6.00</td>\n",
       "      <td>16.00</td>\n",
       "      <td>4.00</td>\n",
       "      <td>1545.00</td>\n",
       "      <td>1510.00</td>\n",
       "      <td>1715.00</td>\n",
       "      <td>1705.00</td>\n",
       "      <td>1543.00</td>\n",
       "      <td>...</td>\n",
       "      <td>606.00</td>\n",
       "      <td>6.00</td>\n",
       "      <td>14.00</td>\n",
       "      <td>0.00</td>\n",
       "      <td>0.00</td>\n",
       "      <td>2.00</td>\n",
       "      <td>0.00</td>\n",
       "      <td>2.00</td>\n",
       "      <td>0.00</td>\n",
       "      <td>8.00</td>\n",
       "    </tr>\n",
       "    <tr>\n",
       "      <th>75%</th>\n",
       "      <td>4972466.75</td>\n",
       "      <td>2008.0</td>\n",
       "      <td>9.00</td>\n",
       "      <td>23.00</td>\n",
       "      <td>6.00</td>\n",
       "      <td>1900.00</td>\n",
       "      <td>1815.00</td>\n",
       "      <td>2030.00</td>\n",
       "      <td>2014.00</td>\n",
       "      <td>3422.00</td>\n",
       "      <td>...</td>\n",
       "      <td>998.00</td>\n",
       "      <td>8.00</td>\n",
       "      <td>21.00</td>\n",
       "      <td>0.00</td>\n",
       "      <td>0.00</td>\n",
       "      <td>21.00</td>\n",
       "      <td>0.00</td>\n",
       "      <td>15.00</td>\n",
       "      <td>0.00</td>\n",
       "      <td>33.00</td>\n",
       "    </tr>\n",
       "    <tr>\n",
       "      <th>max</th>\n",
       "      <td>7009727.00</td>\n",
       "      <td>2008.0</td>\n",
       "      <td>12.00</td>\n",
       "      <td>31.00</td>\n",
       "      <td>7.00</td>\n",
       "      <td>2400.00</td>\n",
       "      <td>2359.00</td>\n",
       "      <td>2400.00</td>\n",
       "      <td>2400.00</td>\n",
       "      <td>9742.00</td>\n",
       "      <td>...</td>\n",
       "      <td>4962.00</td>\n",
       "      <td>240.00</td>\n",
       "      <td>422.00</td>\n",
       "      <td>1.00</td>\n",
       "      <td>1.00</td>\n",
       "      <td>2436.00</td>\n",
       "      <td>1352.00</td>\n",
       "      <td>1357.00</td>\n",
       "      <td>392.00</td>\n",
       "      <td>1316.00</td>\n",
       "    </tr>\n",
       "  </tbody>\n",
       "</table>\n",
       "<p>8 rows × 25 columns</p>\n",
       "</div>"
      ],
      "text/plain": [
       "       Unnamed: 0       Year       Month  DayofMonth   DayOfWeek     DepTime  \\\n",
       "count  1936758.00  1936758.0  1936758.00  1936758.00  1936758.00  1936758.00   \n",
       "mean   3341651.15     2008.0        6.11       15.75        3.98     1518.53   \n",
       "std    2066064.96        0.0        3.48        8.78        2.00      450.49   \n",
       "min          0.00     2008.0        1.00        1.00        1.00        1.00   \n",
       "25%    1517452.50     2008.0        3.00        8.00        2.00     1203.00   \n",
       "50%    3242558.00     2008.0        6.00       16.00        4.00     1545.00   \n",
       "75%    4972466.75     2008.0        9.00       23.00        6.00     1900.00   \n",
       "max    7009727.00     2008.0       12.00       31.00        7.00     2400.00   \n",
       "\n",
       "       CRSDepTime     ArrTime  CRSArrTime   FlightNum  ...    Distance  \\\n",
       "count  1936758.00  1929648.00  1936758.00  1936758.00  ...  1936758.00   \n",
       "mean      1467.47     1610.14     1634.22     2184.26  ...      765.69   \n",
       "std        424.77      548.18      464.63     1944.70  ...      574.48   \n",
       "min          0.00        1.00        0.00        1.00  ...       11.00   \n",
       "25%       1135.00     1316.00     1325.00      610.00  ...      338.00   \n",
       "50%       1510.00     1715.00     1705.00     1543.00  ...      606.00   \n",
       "75%       1815.00     2030.00     2014.00     3422.00  ...      998.00   \n",
       "max       2359.00     2400.00     2400.00     9742.00  ...     4962.00   \n",
       "\n",
       "           TaxiIn     TaxiOut   Cancelled    Diverted  CarrierDelay  \\\n",
       "count  1929648.00  1936303.00  1936758.00  1936758.00    1247488.00   \n",
       "mean         6.81       18.23        0.00        0.00         19.18   \n",
       "std          5.27       14.34        0.02        0.06         43.55   \n",
       "min          0.00        0.00        0.00        0.00          0.00   \n",
       "25%          4.00       10.00        0.00        0.00          0.00   \n",
       "50%          6.00       14.00        0.00        0.00          2.00   \n",
       "75%          8.00       21.00        0.00        0.00         21.00   \n",
       "max        240.00      422.00        1.00        1.00       2436.00   \n",
       "\n",
       "       WeatherDelay    NASDelay  SecurityDelay  LateAircraftDelay  \n",
       "count    1247488.00  1247488.00     1247488.00         1247488.00  \n",
       "mean           3.70       15.02           0.09              25.30  \n",
       "std           21.49       33.83           2.02              42.05  \n",
       "min            0.00        0.00           0.00               0.00  \n",
       "25%            0.00        0.00           0.00               0.00  \n",
       "50%            0.00        2.00           0.00               8.00  \n",
       "75%            0.00       15.00           0.00              33.00  \n",
       "max         1352.00     1357.00         392.00            1316.00  \n",
       "\n",
       "[8 rows x 25 columns]"
      ]
     },
     "execution_count": 5,
     "metadata": {},
     "output_type": "execute_result"
    }
   ],
   "source": [
    "file.describe().round(2)"
   ]
  },
  {
   "cell_type": "code",
   "execution_count": 6,
   "metadata": {},
   "outputs": [
    {
     "data": {
      "text/plain": [
       "(1936758, 30)"
      ]
     },
     "execution_count": 6,
     "metadata": {},
     "output_type": "execute_result"
    }
   ],
   "source": [
    "file.shape"
   ]
  },
  {
   "cell_type": "code",
   "execution_count": 7,
   "metadata": {},
   "outputs": [
    {
     "data": {
      "text/plain": [
       "Index(['Unnamed: 0', 'Year', 'Month', 'DayofMonth', 'DayOfWeek', 'DepTime',\n",
       "       'CRSDepTime', 'ArrTime', 'CRSArrTime', 'UniqueCarrier', 'FlightNum',\n",
       "       'TailNum', 'ActualElapsedTime', 'CRSElapsedTime', 'AirTime', 'ArrDelay',\n",
       "       'DepDelay', 'Origin', 'Dest', 'Distance', 'TaxiIn', 'TaxiOut',\n",
       "       'Cancelled', 'CancellationCode', 'Diverted', 'CarrierDelay',\n",
       "       'WeatherDelay', 'NASDelay', 'SecurityDelay', 'LateAircraftDelay'],\n",
       "      dtype='object')"
      ]
     },
     "execution_count": 7,
     "metadata": {},
     "output_type": "execute_result"
    }
   ],
   "source": [
    "file.columns"
   ]
  },
  {
   "cell_type": "code",
   "execution_count": 8,
   "metadata": {},
   "outputs": [
    {
     "data": {
      "text/plain": [
       "0          1\n",
       "6846151    1\n",
       "2232597    1\n",
       "5967571    1\n",
       "2242832    1\n",
       "          ..\n",
       "4495774    1\n",
       "6925369    1\n",
       "3917269    1\n",
       "3919316    1\n",
       "2047       1\n",
       "Name: Unnamed: 0, Length: 1936758, dtype: int64"
      ]
     },
     "execution_count": 8,
     "metadata": {},
     "output_type": "execute_result"
    }
   ],
   "source": [
    "# A continuación, vemos que la columna 'Unnamed' no aporta nada, no es más que un contador de filas, así que pasaremos a \n",
    "# eliminarla. \n",
    "\n",
    "file['Unnamed: 0'].value_counts()"
   ]
  },
  {
   "cell_type": "code",
   "execution_count": 9,
   "metadata": {},
   "outputs": [],
   "source": [
    "file.drop(['Unnamed: 0'], axis=1, inplace=True)"
   ]
  },
  {
   "cell_type": "code",
   "execution_count": 10,
   "metadata": {},
   "outputs": [
    {
     "name": "stdout",
     "output_type": "stream",
     "text": [
      "Total Number of NaN values: \n",
      "Year                      0\n",
      "Month                     0\n",
      "DayofMonth                0\n",
      "DayOfWeek                 0\n",
      "DepTime                   0\n",
      "CRSDepTime                0\n",
      "ArrTime                7110\n",
      "CRSArrTime                0\n",
      "UniqueCarrier             0\n",
      "FlightNum                 0\n",
      "TailNum                   5\n",
      "ActualElapsedTime      8387\n",
      "CRSElapsedTime          198\n",
      "AirTime                8387\n",
      "ArrDelay               8387\n",
      "DepDelay                  0\n",
      "Origin                    0\n",
      "Dest                      0\n",
      "Distance                  0\n",
      "TaxiIn                 7110\n",
      "TaxiOut                 455\n",
      "Cancelled                 0\n",
      "CancellationCode          0\n",
      "Diverted                  0\n",
      "CarrierDelay         689270\n",
      "WeatherDelay         689270\n",
      "NASDelay             689270\n",
      "SecurityDelay        689270\n",
      "LateAircraftDelay    689270\n",
      "dtype: int64\n"
     ]
    }
   ],
   "source": [
    "# Miramos los valores NaN que tienen las columnas\n",
    "\n",
    "total_nan_values = file.isna().sum()\n",
    "print (\"Total Number of NaN values: \"+'\\n'+str(total_nan_values))"
   ]
  },
  {
   "cell_type": "code",
   "execution_count": 11,
   "metadata": {},
   "outputs": [
    {
     "name": "stdout",
     "output_type": "stream",
     "text": [
      "<class 'pandas.core.frame.DataFrame'>\n",
      "RangeIndex: 1936758 entries, 0 to 1936757\n",
      "Data columns (total 29 columns):\n",
      " #   Column             Dtype  \n",
      "---  ------             -----  \n",
      " 0   Year               int64  \n",
      " 1   Month              int64  \n",
      " 2   DayofMonth         int64  \n",
      " 3   DayOfWeek          int64  \n",
      " 4   DepTime            float64\n",
      " 5   CRSDepTime         int64  \n",
      " 6   ArrTime            float64\n",
      " 7   CRSArrTime         int64  \n",
      " 8   UniqueCarrier      object \n",
      " 9   FlightNum          int64  \n",
      " 10  TailNum            object \n",
      " 11  ActualElapsedTime  float64\n",
      " 12  CRSElapsedTime     float64\n",
      " 13  AirTime            float64\n",
      " 14  ArrDelay           float64\n",
      " 15  DepDelay           float64\n",
      " 16  Origin             object \n",
      " 17  Dest               object \n",
      " 18  Distance           int64  \n",
      " 19  TaxiIn             float64\n",
      " 20  TaxiOut            float64\n",
      " 21  Cancelled          int64  \n",
      " 22  CancellationCode   object \n",
      " 23  Diverted           int64  \n",
      " 24  CarrierDelay       float64\n",
      " 25  WeatherDelay       float64\n",
      " 26  NASDelay           float64\n",
      " 27  SecurityDelay      float64\n",
      " 28  LateAircraftDelay  float64\n",
      "dtypes: float64(14), int64(10), object(5)\n",
      "memory usage: 428.5+ MB\n"
     ]
    }
   ],
   "source": [
    "file.info()"
   ]
  },
  {
   "cell_type": "code",
   "execution_count": 12,
   "metadata": {},
   "outputs": [],
   "source": [
    "# Pasamos a GRAFICAR: a través de la matriz de correlación podemos ver cómo algunas de las 29 variables del conjunto de datos \n",
    "# presentan multicolinealidad, es decir, pueden predecirse linealmente a partir de las demás."
   ]
  },
  {
   "cell_type": "code",
   "execution_count": 13,
   "metadata": {},
   "outputs": [
    {
     "data": {
      "image/png": "[encoded data removed]",
      "text/plain": [
       "<Figure size 864x648 with 2 Axes>"
      ]
     },
     "metadata": {
      "needs_background": "light"
     },
     "output_type": "display_data"
    }
   ],
   "source": [
    "# Matriz de correlación  #\n",
    "\n",
    "corrmat = file.corr()\n",
    "f, ax = plt.subplots(figsize=(12, 9))\n",
    "sns.heatmap(corrmat, vmax=.8, square=True);\n",
    "plt.show()"
   ]
  },
  {
   "cell_type": "code",
   "execution_count": 12,
   "metadata": {},
   "outputs": [
    {
     "name": "stderr",
     "output_type": "stream",
     "text": [
      "c:\\users\\marta\\appdata\\local\\programs\\python\\python37\\lib\\site-packages\\seaborn\\axisgrid.py:1969: UserWarning: The `size` parameter has been renamed to `height`; please update your code.\n",
      "  warnings.warn(msg, UserWarning)\n"
     ]
    },
    {
     "data": {
      "image/png": "[encoded data removed]",
      "text/plain": [
       "<Figure size 900x900 with 30 Axes>"
      ]
     },
     "metadata": {},
     "output_type": "display_data"
    }
   ],
   "source": [
    "# Scatterplot #\n",
    "\n",
    "# La matriz de correlación anterior indentifica las tres variables principales que generan los retrasos: Late Aircraft Delay, \n",
    "# Carrier Delay and NAS Delay. El scatterplot corrobora este supuesto, mostrando cómo esas tres variables crean la mayoría de \n",
    "# los retrasos durante el año.\n",
    "\n",
    "# Antes de graficar, creamos la columna Status que representa si el vuela llegó en hora (0), con un poco retrasado (1), \n",
    "# con mucho retrasado (2), desviado (3) o cancelado (4)\n",
    "\n",
    "for dataset in file:\n",
    "    file.loc[file['ArrDelay'] <= 15, 'Status'] = 0\n",
    "    file.loc[file['ArrDelay'] >= 15, 'Status'] = 1\n",
    "    file.loc[file['ArrDelay'] >= 60, 'Status'] = 2\n",
    "    file.loc[file['Diverted'] == 1, 'Status'] = 3\n",
    "    file.loc[file['Cancelled'] == 1, 'Status'] = 4\n",
    "\n",
    "sns.set()\n",
    "Delayedflights = file[(file.Status >= 1) & (file.Status < 3)]\n",
    "cols = ['ArrDelay', 'CarrierDelay', 'LateAircraftDelay', 'NASDelay', 'WeatherDelay']\n",
    "sns.pairplot(Delayedflights[cols], size = 2.5)\n",
    "plt.show()"
   ]
  },
  {
   "cell_type": "code",
   "execution_count": 13,
   "metadata": {},
   "outputs": [
    {
     "name": "stdout",
     "output_type": "stream",
     "text": [
      "Total Number of NaN values: \n",
      "Year                      0\n",
      "Month                     0\n",
      "DayofMonth                0\n",
      "DayOfWeek                 0\n",
      "DepTime                   0\n",
      "CRSDepTime                0\n",
      "ArrTime                7110\n",
      "CRSArrTime                0\n",
      "UniqueCarrier             0\n",
      "FlightNum                 0\n",
      "TailNum                   5\n",
      "ActualElapsedTime      8387\n",
      "CRSElapsedTime          198\n",
      "AirTime                8387\n",
      "ArrDelay               8387\n",
      "DepDelay                  0\n",
      "Origin                    0\n",
      "Dest                      0\n",
      "Distance                  0\n",
      "TaxiIn                 7110\n",
      "TaxiOut                 455\n",
      "Cancelled                 0\n",
      "CancellationCode          0\n",
      "Diverted                  0\n",
      "CarrierDelay         689270\n",
      "WeatherDelay         689270\n",
      "NASDelay             689270\n",
      "SecurityDelay        689270\n",
      "LateAircraftDelay    689270\n",
      "dtype: int64\n"
     ]
    }
   ],
   "source": [
    "# Comprabamos las columnas que tienen valores NaN, ya que los modelos de regresión en python no aceptan estos valores.\n",
    "\n",
    "total_nan_values = file.isna().sum()\n",
    "print (\"Total Number of NaN values: \"+'\\n'+str(total_nan_values))"
   ]
  },
  {
   "cell_type": "code",
   "execution_count": 14,
   "metadata": {},
   "outputs": [],
   "source": [
    "# De momento, reemplazamos los valores faltantes por la media aritmética de la respectiva variable para evitar pérdida de datos,\n",
    "# ya que sabemos que seguro vamos a utilizar dichas variables. \n",
    "\n",
    "file['ArrDelay']=file['ArrDelay'].fillna(file['ArrDelay'].mean())"
   ]
  },
  {
   "cell_type": "code",
   "execution_count": 15,
   "metadata": {},
   "outputs": [],
   "source": [
    "file['CarrierDelay']=file['CarrierDelay'].fillna(file['CarrierDelay'].mean())"
   ]
  },
  {
   "cell_type": "code",
   "execution_count": 16,
   "metadata": {},
   "outputs": [],
   "source": [
    "file['WeatherDelay']=file['WeatherDelay'].fillna(file['WeatherDelay'].mean())"
   ]
  },
  {
   "cell_type": "code",
   "execution_count": 17,
   "metadata": {},
   "outputs": [],
   "source": [
    "file['SecurityDelay']=file['SecurityDelay'].fillna(file['SecurityDelay'].mean())"
   ]
  },
  {
   "cell_type": "code",
   "execution_count": 18,
   "metadata": {},
   "outputs": [],
   "source": [
    "file['NASDelay']=file['NASDelay'].fillna(file['NASDelay'].mean())"
   ]
  },
  {
   "cell_type": "code",
   "execution_count": 19,
   "metadata": {},
   "outputs": [],
   "source": [
    "file['LateAircraftDelay']=file['LateAircraftDelay'].fillna(file['LateAircraftDelay'].mean())"
   ]
  },
  {
   "cell_type": "code",
   "execution_count": 20,
   "metadata": {},
   "outputs": [
    {
     "name": "stdout",
     "output_type": "stream",
     "text": [
      "Total Number of NaN values: \n",
      "Year                    0\n",
      "Month                   0\n",
      "DayofMonth              0\n",
      "DayOfWeek               0\n",
      "DepTime                 0\n",
      "CRSDepTime              0\n",
      "ArrTime              7110\n",
      "CRSArrTime              0\n",
      "UniqueCarrier           0\n",
      "FlightNum               0\n",
      "TailNum                 5\n",
      "ActualElapsedTime    8387\n",
      "CRSElapsedTime        198\n",
      "AirTime              8387\n",
      "ArrDelay                0\n",
      "DepDelay                0\n",
      "Origin                  0\n",
      "Dest                    0\n",
      "Distance                0\n",
      "TaxiIn               7110\n",
      "TaxiOut               455\n",
      "Cancelled               0\n",
      "CancellationCode        0\n",
      "Diverted                0\n",
      "CarrierDelay            0\n",
      "WeatherDelay            0\n",
      "NASDelay                0\n",
      "SecurityDelay           0\n",
      "LateAircraftDelay       0\n",
      "dtype: int64\n"
     ]
    }
   ],
   "source": [
    "total_nan_values = file.isna().sum()\n",
    "print (\"Total Number of NaN values: \"+'\\n'+str(total_nan_values))"
   ]
  },
  {
   "cell_type": "markdown",
   "metadata": {},
   "source": [
    "### <span style=\"color:black\">Exercici 1.</span>"
   ]
  },
  {
   "cell_type": "markdown",
   "metadata": {},
   "source": [
    "__Crea almenys tres models de regressió diferents per intentar predir el millor possible l’endarreriment dels vols (ArrDelay) de DelayedFlights.csv:__ <span style=\"color:blue\">__[X] Fet__</span>"
   ]
  },
  {
   "cell_type": "code",
   "execution_count": 21,
   "metadata": {},
   "outputs": [],
   "source": [
    "# VAMOS A REALIZAR 3 MODELOS DE REGRESIÓN: REGRESIÓN LINEAL SIMPLE, RANDOM FOREST Y REGRESIÓN POLINÓMICA #"
   ]
  },
  {
   "cell_type": "code",
   "execution_count": 22,
   "metadata": {},
   "outputs": [],
   "source": [
    "# MODELO DE REGRESIÓN LINEAL SIMPLE #"
   ]
  },
  {
   "cell_type": "code",
   "execution_count": 696,
   "metadata": {},
   "outputs": [],
   "source": [
    "x= np.array(file['DepDelay']).reshape((-1, 1)) #variable independiente (retraso en la salida)\n",
    "y= file['ArrDelay'] #variable dependiente (retraso en la llegada)"
   ]
  },
  {
   "cell_type": "code",
   "execution_count": 697,
   "metadata": {},
   "outputs": [
    {
     "data": {
      "text/plain": [
       "((1936758, 1), (1936758,))"
      ]
     },
     "execution_count": 697,
     "metadata": {},
     "output_type": "execute_result"
    }
   ],
   "source": [
    "x.shape, y.shape"
   ]
  },
  {
   "cell_type": "code",
   "execution_count": 698,
   "metadata": {},
   "outputs": [],
   "source": [
    "model = LinearRegression().fit(x, y) # Creamos el modelo y lo ajustamos"
   ]
  },
  {
   "cell_type": "code",
   "execution_count": 699,
   "metadata": {},
   "outputs": [],
   "source": [
    "r_sq = model.score(x, y) "
   ]
  },
  {
   "cell_type": "code",
   "execution_count": 700,
   "metadata": {},
   "outputs": [
    {
     "name": "stdout",
     "output_type": "stream",
     "text": [
      "coefficient of determination: 0.8995207508716909\n",
      "intercept: -1.2579166978439673\n",
      "slope: [1.00631293]\n"
     ]
    }
   ],
   "source": [
    "print('coefficient of determination:', r_sq) # el ajuste del modelo es de casi 0.90, por lo que es bastante bueno\n",
    "print('intercept:', model.intercept_) # nuestro modelo predice la respuesta -1.26 cuando 𝑥 es cero. \n",
    "print('slope:', model.coef_) # la respuesta prevista aumenta en 1.006 cuando 𝑥 aumenta en uno."
   ]
  },
  {
   "cell_type": "code",
   "execution_count": 701,
   "metadata": {
    "scrolled": true
   },
   "outputs": [
    {
     "name": "stdout",
     "output_type": "stream",
     "text": [
      "predicted response:\n",
      "[ 6.79258674 17.86202898  6.79258674 ... 79.24711772  9.81152553\n",
      "  5.78627381]\n"
     ]
    }
   ],
   "source": [
    "y_pred = model.predict(x)\n",
    "print('predicted response:', y_pred, sep='\\n')"
   ]
  },
  {
   "cell_type": "markdown",
   "metadata": {},
   "source": [
    "     "
   ]
  },
  {
   "cell_type": "code",
   "execution_count": null,
   "metadata": {},
   "outputs": [],
   "source": [
    "# MODELO DE REGRESIÓN RANDOM FOREST "
   ]
  },
  {
   "cell_type": "code",
   "execution_count": null,
   "metadata": {},
   "outputs": [],
   "source": [
    "# Como tengo problemas de memoria, voy a crear un dataset 'df' con las variables ArrDelay y DepDelay, y posteriormente extraer \n",
    "# una muestra aleatoria del 30% del dataset creado"
   ]
  },
  {
   "cell_type": "code",
   "execution_count": 702,
   "metadata": {},
   "outputs": [],
   "source": [
    "df = pd.DataFrame()\n",
    "df['X'] = file['DepDelay'] #variable independiente (retraso en la salida)\n",
    "df['y'] = file['ArrDelay'] #variable dependiente (retraso en la llegada)"
   ]
  },
  {
   "cell_type": "code",
   "execution_count": 703,
   "metadata": {},
   "outputs": [],
   "source": [
    "df = df.sample(frac=0.30) # extraemos una muestra aleatoria del 20%, así nos aseguramos que es lo suficientemente representativa"
   ]
  },
  {
   "cell_type": "code",
   "execution_count": 704,
   "metadata": {},
   "outputs": [],
   "source": [
    "# Asignamos las variables con las que vamos a trabajar en el algoritmo\n",
    "\n",
    "X= np.array(df['X']).reshape((-1, 1)) #variable independiente (hora de salida)\n",
    "y= df['y'] #variable dependiente (hora de llegada)"
   ]
  },
  {
   "cell_type": "code",
   "execution_count": 705,
   "metadata": {},
   "outputs": [
    {
     "data": {
      "text/plain": [
       "dtype('float64')"
      ]
     },
     "execution_count": 705,
     "metadata": {},
     "output_type": "execute_result"
    }
   ],
   "source": [
    "y.dtype"
   ]
  },
  {
   "cell_type": "code",
   "execution_count": 706,
   "metadata": {},
   "outputs": [],
   "source": [
    "y=y.round(0).astype(int) # pasamos nuestra variable dependiente a integer ya que RandomForest no me acepta floats"
   ]
  },
  {
   "cell_type": "code",
   "execution_count": 707,
   "metadata": {},
   "outputs": [],
   "source": [
    "X_train, X_test, y_train, y_test = train_test_split(X, y, test_size=0.2, random_state=0)"
   ]
  },
  {
   "cell_type": "code",
   "execution_count": 708,
   "metadata": {},
   "outputs": [],
   "source": [
    "model3 = RandomForestRegressor(n_estimators = 100).fit(X_train,y_train)"
   ]
  },
  {
   "cell_type": "code",
   "execution_count": 721,
   "metadata": {},
   "outputs": [
    {
     "name": "stdout",
     "output_type": "stream",
     "text": [
      "predicted response:\n",
      "[ 8.787828   34.27958184  7.378319   ...  6.2239409  41.26887345\n",
      "  4.08628313]\n"
     ]
    }
   ],
   "source": [
    "y_pred3 = model3.predict(X_test)\n",
    "print('predicted response:', y_pred3, sep='\\n')"
   ]
  },
  {
   "cell_type": "code",
   "execution_count": 710,
   "metadata": {},
   "outputs": [],
   "source": [
    "y_test3=y_test.values.reshape((-1, 1))"
   ]
  },
  {
   "cell_type": "code",
   "execution_count": 711,
   "metadata": {},
   "outputs": [],
   "source": [
    "r_sq3 = model3.score(X, y) "
   ]
  },
  {
   "cell_type": "code",
   "execution_count": 712,
   "metadata": {},
   "outputs": [
    {
     "name": "stdout",
     "output_type": "stream",
     "text": [
      "coefficient of determination: 0.9010375416696851\n"
     ]
    }
   ],
   "source": [
    "print('coefficient of determination:', r_sq3) # el ajuste del modelo es de 0.9020, por lo que es bastante bueno"
   ]
  },
  {
   "cell_type": "markdown",
   "metadata": {},
   "source": [
    "    "
   ]
  },
  {
   "cell_type": "code",
   "execution_count": 206,
   "metadata": {},
   "outputs": [],
   "source": [
    "# MODELO DE REGRESIÓN POLINOMICA #"
   ]
  },
  {
   "cell_type": "code",
   "execution_count": 713,
   "metadata": {},
   "outputs": [],
   "source": [
    "x= np.array(file['DepDelay']).reshape((-1, 1)) #variable independiente (retraso en la salida)\n",
    "y= file['ArrDelay'] #variable dependiente (retraso en la llegada)"
   ]
  },
  {
   "cell_type": "code",
   "execution_count": 714,
   "metadata": {},
   "outputs": [
    {
     "data": {
      "text/plain": [
       "((1936758, 1), (1936758,))"
      ]
     },
     "execution_count": 714,
     "metadata": {},
     "output_type": "execute_result"
    }
   ],
   "source": [
    "x.shape, y.shape"
   ]
  },
  {
   "cell_type": "code",
   "execution_count": 715,
   "metadata": {},
   "outputs": [],
   "source": [
    "x_ = PolynomialFeatures(degree=3, include_bias=False).fit_transform(x)"
   ]
  },
  {
   "cell_type": "code",
   "execution_count": 716,
   "metadata": {},
   "outputs": [],
   "source": [
    "model2 = LinearRegression().fit(x_, y) # Creamos el modelo y lo ajustamos"
   ]
  },
  {
   "cell_type": "code",
   "execution_count": 717,
   "metadata": {},
   "outputs": [],
   "source": [
    "r_sq2 = model2.score(x_, y) \n",
    "intercept, coefficients = model2.intercept_, model.coef_"
   ]
  },
  {
   "cell_type": "code",
   "execution_count": 718,
   "metadata": {},
   "outputs": [
    {
     "name": "stdout",
     "output_type": "stream",
     "text": [
      "coefficient of determination: 0.8996307938198441\n",
      "intercept: -1.754908274813829\n",
      "coefficients:\n",
      "[1.00631293]\n"
     ]
    }
   ],
   "source": [
    "print('coefficient of determination:', r_sq2) # el ajuste del modelo es de casi 0.90, es un buen modelo\n",
    "print('intercept:', intercept) # nuestro modelo predice la respuesta -1.7549 cuando 𝑥 es cero. \n",
    "print('coefficients:', coefficients, sep='\\n') # la respuesta prevista aumenta en 1.006 cuando 𝑥 aumenta en uno."
   ]
  },
  {
   "cell_type": "code",
   "execution_count": 719,
   "metadata": {
    "scrolled": true
   },
   "outputs": [
    {
     "name": "stdout",
     "output_type": "stream",
     "text": [
      "predicted response:\n",
      "[ 6.44492148 17.70308049  6.44492148 ... 79.79896114  9.51722554\n",
      "  5.42050214]\n"
     ]
    }
   ],
   "source": [
    "y_pred2 = model2.predict(x_)\n",
    "print('predicted response:', y_pred2, sep='\\n')"
   ]
  },
  {
   "cell_type": "markdown",
   "metadata": {},
   "source": [
    "### <span style=\"color:black\">Exercici 2.</span>"
   ]
  },
  {
   "cell_type": "markdown",
   "metadata": {},
   "source": [
    "__Compara’ls en base al MSE i al R2:__ <span style=\"color:blue\">__[X] Fet__</span>"
   ]
  },
  {
   "cell_type": "code",
   "execution_count": 214,
   "metadata": {},
   "outputs": [],
   "source": [
    "# COMPARACIÓN EN BASE A R2 #"
   ]
  },
  {
   "cell_type": "code",
   "execution_count": 215,
   "metadata": {},
   "outputs": [],
   "source": [
    "# Ya lo calculé en el ejercicio anterior, pero igualmente incluyo el resultado en este ejercicio. "
   ]
  },
  {
   "cell_type": "code",
   "execution_count": 720,
   "metadata": {},
   "outputs": [
    {
     "name": "stdout",
     "output_type": "stream",
     "text": [
      "coefficient of determination: 0.8995207508716909\n",
      "coefficient of determination: 0.9010375416696851\n",
      "coefficient of determination: 0.8996307938198441\n"
     ]
    }
   ],
   "source": [
    "# Vemos que el modelo que tiene mejor ajuste, por muy poco, es el polinómico vs. el modelo lineal simple. En cuanto al modelo\n",
    "# de regresión multivariable, lo lógica ya nos decía que este modelo seguramente tendría el R2 más bajo ya que las  \n",
    "# variables independientes eran la distancia del vuelo (en minutos) y los diversos motivos de los retrasos, que tenían\n",
    "# muchos datos NaN (que fueron sustituidos por sus respectivas medias); obviamente éstas son variables de entrada que \n",
    "# proporcionan una información menos \"acurada\" sobre los retrasos que las variables ArrDelay y DepDelay.\n",
    "\n",
    "print('coefficient of determination:', r_sq) # Modelo de regresión lineal\n",
    "print('coefficient of determination:', r_sq3) # Modelo de regresión Random Forest\n",
    "print('coefficient of determination:', r_sq2) # Modelo de regresión polinómico"
   ]
  },
  {
   "cell_type": "markdown",
   "metadata": {},
   "source": [
    "      "
   ]
  },
  {
   "cell_type": "code",
   "execution_count": 217,
   "metadata": {},
   "outputs": [],
   "source": [
    "# COMPARACIÓN EN BASE A MSE #"
   ]
  },
  {
   "cell_type": "code",
   "execution_count": 122,
   "metadata": {},
   "outputs": [
    {
     "name": "stdout",
     "output_type": "stream",
     "text": [
      "mean squared error: 322.5925190396327\n",
      "mean squared error: 331.48483358366326\n",
      "mean squared error: 322.23922189464736\n"
     ]
    }
   ],
   "source": [
    "# El error cuadrático medio es el criterio de evaluación más usado para problemas de aprendizaje supervisado de regresión y nos \n",
    "# proporciona información sobre cuán cerca están los puntos de datos observados de los valores predichos del modelo. Cuanto \n",
    "# mayor sea este valor, peor es el modelo.\n",
    "\n",
    "print('mean squared error:', mean_squared_error(y, y_pred)) # Modelo de regresión lineal\n",
    "print('mean squared error:', mean_squared_error(y_test3, y_pred3)) # Modelo de regresión Random Forest\n",
    "print('mean squared error:', mean_squared_error(y, y_pred2)) # Modelo de regresión polinómica"
   ]
  },
  {
   "cell_type": "markdown",
   "metadata": {},
   "source": [
    "    "
   ]
  },
  {
   "cell_type": "code",
   "execution_count": null,
   "metadata": {},
   "outputs": [],
   "source": [
    "# Dado que nuestro MSE ha dado unos valores elevados, vamos a comprobar si se debe a valores atípicos. Para ello \n",
    "# voy a calcular el MAE, donde error se calcula como un promedio de diferencias absolutas entre los valores objetivo y \n",
    "# las predicciones. En este caso todas las diferencias individuales se ponderan por igual en el promedio, por lo que MAE es \n",
    "# MENOS sensible a los valores atípicos que el error cuadrático medio. "
   ]
  },
  {
   "cell_type": "code",
   "execution_count": 121,
   "metadata": {},
   "outputs": [
    {
     "name": "stdout",
     "output_type": "stream",
     "text": [
      "mean squared error: 11.384686269042618\n",
      "mean squared error: 11.471854476585033\n",
      "mean squared error: 11.38877527275136\n"
     ]
    }
   ],
   "source": [
    "print('mean squared error:', mean_absolute_error(y, y_pred)) # Modelo de regresión lineal\n",
    "print('mean squared error:', mean_absolute_error(y_test3, y_pred3)) # Modelo de regresión Random Forest\n",
    "print('mean squared error:', mean_absolute_error(y, y_pred2)) # Modelo de regresión polinómico"
   ]
  },
  {
   "cell_type": "markdown",
   "metadata": {},
   "source": [
    "### <span style=\"color:black\">Exercici 3.</span>"
   ]
  },
  {
   "cell_type": "markdown",
   "metadata": {},
   "source": [
    "__Entrena’ls utilitzant els diferents paràmetres que admeten:__ <span style=\"color:blue\">__[X] Fet__</span>"
   ]
  },
  {
   "cell_type": "code",
   "execution_count": null,
   "metadata": {},
   "outputs": [],
   "source": [
    "# MODELO DE REGRESIÓN LINEAL SIMPLE #"
   ]
  },
  {
   "cell_type": "code",
   "execution_count": 1938,
   "metadata": {},
   "outputs": [],
   "source": [
    "x= np.array(file['DepDelay']).reshape((-1, 1)) #variable independiente (retraso en la salida)\n",
    "y= file['ArrDelay'] #variable dependiente (retraso en la llegada)"
   ]
  },
  {
   "cell_type": "code",
   "execution_count": 1939,
   "metadata": {},
   "outputs": [
    {
     "name": "stdout",
     "output_type": "stream",
     "text": [
      "coefficient of determination: 0.8995207508716909\n"
     ]
    }
   ],
   "source": [
    "# Entrenamos el modelo utilizando los parámetros por defecto. \n",
    "\n",
    "model = LinearRegression().fit(x, y) \n",
    "r_sq = model.score(x, y) \n",
    "print('coefficient of determination:', r_sq) "
   ]
  },
  {
   "cell_type": "code",
   "execution_count": 1940,
   "metadata": {},
   "outputs": [
    {
     "name": "stdout",
     "output_type": "stream",
     "text": [
      "coefficient of determination: 0.8995207508716908\n"
     ]
    }
   ],
   "source": [
    "# Entrenamos el modelo variando los parámetros: n_jobs y normalize \n",
    "\n",
    "model_2 = LinearRegression(n_jobs=-1, normalize=True).fit(x, y) \n",
    "r_sq2 = model_2.score(x, y) # Calculamos el R2 para comprovar el ajuste en cada modelo.\n",
    "print('coefficient of determination:', r_sq2) "
   ]
  },
  {
   "cell_type": "code",
   "execution_count": 1941,
   "metadata": {},
   "outputs": [
    {
     "name": "stdout",
     "output_type": "stream",
     "text": [
      "coefficient of determination: 0.8992227601508445\n"
     ]
    }
   ],
   "source": [
    "# Entrenamos el modelo variando los parámetros: fit_intercept\n",
    "\n",
    "model_3 = LinearRegression(fit_intercept=False).fit(x, y) \n",
    "r_sq3 = model_3.score(x, y) # Calculamos el R2 para comprovar el ajuste en cada modelo.\n",
    "print('coefficient of determination:', r_sq3) "
   ]
  },
  {
   "cell_type": "code",
   "execution_count": 358,
   "metadata": {},
   "outputs": [
    {
     "name": "stdout",
     "output_type": "stream",
     "text": [
      "coefficient of determination: 0.8995207508716909\n"
     ]
    }
   ],
   "source": [
    "# Entrenamos el modelo variando los parámetros: copy_X\n",
    "\n",
    "model_4 = LinearRegression(copy_X=False).fit(x, y)\n",
    "r_sq4 = model_4.score(x, y) # Calculamos el R2 para comprovar el ajuste en cada modelo.\n",
    "print('coefficient of determination:', r_sq4) "
   ]
  },
  {
   "cell_type": "markdown",
   "metadata": {},
   "source": [
    "    "
   ]
  },
  {
   "cell_type": "code",
   "execution_count": 319,
   "metadata": {},
   "outputs": [],
   "source": [
    "# MODELO DE REGRESIÓN RANDOM FOREST #"
   ]
  },
  {
   "cell_type": "code",
   "execution_count": 549,
   "metadata": {},
   "outputs": [],
   "source": [
    "df = pd.DataFrame()\n",
    "df['X'] = file['DepDelay'] #variable independiente (retraso en la salida)\n",
    "df['y'] = file['ArrDelay'] #variable dependiente (retraso en la llegada)"
   ]
  },
  {
   "cell_type": "code",
   "execution_count": 550,
   "metadata": {},
   "outputs": [],
   "source": [
    "df = df.sample(frac=0.30) # extraemos una muestra aleatoria del 30%, así nos aseguramos que es lo suficientemente representativa"
   ]
  },
  {
   "cell_type": "code",
   "execution_count": 551,
   "metadata": {},
   "outputs": [],
   "source": [
    "# Asignamos las variables con las que vamos a trabajar en el algoritmo\n",
    "\n",
    "X= np.array(df['X']).reshape((-1, 1)) #variable independiente (hora de salida)\n",
    "y= df['y'] #variable dependiente (hora de llegada)"
   ]
  },
  {
   "cell_type": "code",
   "execution_count": 552,
   "metadata": {},
   "outputs": [
    {
     "data": {
      "text/plain": [
       "dtype('float64')"
      ]
     },
     "execution_count": 552,
     "metadata": {},
     "output_type": "execute_result"
    }
   ],
   "source": [
    "y.dtype"
   ]
  },
  {
   "cell_type": "code",
   "execution_count": 553,
   "metadata": {},
   "outputs": [],
   "source": [
    "y=y.round(0).astype(int) # pasamos nuestra variable dependiente a integer ya que RandomForest no acepta floats"
   ]
  },
  {
   "cell_type": "code",
   "execution_count": 554,
   "metadata": {},
   "outputs": [],
   "source": [
    "X_train, X_test, y_train, y_test = train_test_split(X, y, test_size=0.2, random_state=0)"
   ]
  },
  {
   "cell_type": "code",
   "execution_count": 555,
   "metadata": {},
   "outputs": [
    {
     "name": "stdout",
     "output_type": "stream",
     "text": [
      "coefficient of determination: 0.9011263744339882\n"
     ]
    }
   ],
   "source": [
    "# Entrenamos el modelo variando los parámetros, y vemos que el modelo mejora de 0.9020 a 0.9011\n",
    "\n",
    "model_1 = RandomForestRegressor(n_estimators = 1000, max_features = 'sqrt', random_state = 0).fit(X_train,y_train)\n",
    "r_sq1 = model_1.score(X, y) # Calculamos el R2 para comprovar el ajuste en cada modelo.\n",
    "print('coefficient of determination:', r_sq1) # el ajuste del modelo es de 0.90, por lo que es bastante bueno"
   ]
  },
  {
   "cell_type": "code",
   "execution_count": 556,
   "metadata": {},
   "outputs": [
    {
     "name": "stdout",
     "output_type": "stream",
     "text": [
      "building tree 1 of 100\n"
     ]
    },
    {
     "name": "stderr",
     "output_type": "stream",
     "text": [
      "[Parallel(n_jobs=1)]: Using backend SequentialBackend with 1 concurrent workers.\n",
      "[Parallel(n_jobs=1)]: Done   1 out of   1 | elapsed:    0.1s remaining:    0.0s\n"
     ]
    },
    {
     "name": "stdout",
     "output_type": "stream",
     "text": [
      "building tree 2 of 100\n",
      "building tree 3 of 100\n",
      "building tree 4 of 100\n",
      "building tree 5 of 100\n",
      "building tree 6 of 100\n",
      "building tree 7 of 100\n",
      "building tree 8 of 100\n",
      "building tree 9 of 100\n",
      "building tree 10 of 100\n",
      "building tree 11 of 100\n",
      "building tree 12 of 100\n",
      "building tree 13 of 100\n",
      "building tree 14 of 100\n",
      "building tree 15 of 100\n",
      "building tree 16 of 100\n",
      "building tree 17 of 100\n",
      "building tree 18 of 100\n",
      "building tree 19 of 100\n",
      "building tree 20 of 100\n",
      "building tree 21 of 100\n",
      "building tree 22 of 100\n",
      "building tree 23 of 100\n",
      "building tree 24 of 100\n",
      "building tree 25 of 100\n",
      "building tree 26 of 100\n",
      "building tree 27 of 100\n",
      "building tree 28 of 100\n",
      "building tree 29 of 100\n",
      "building tree 30 of 100\n",
      "building tree 31 of 100\n",
      "building tree 32 of 100\n",
      "building tree 33 of 100\n",
      "building tree 34 of 100\n",
      "building tree 35 of 100\n",
      "building tree 36 of 100\n",
      "building tree 37 of 100\n",
      "building tree 38 of 100\n",
      "building tree 39 of 100\n",
      "building tree 40 of 100\n",
      "building tree 41 of 100\n",
      "building tree 42 of 100\n",
      "building tree 43 of 100\n",
      "building tree 44 of 100\n",
      "building tree 45 of 100\n",
      "building tree 46 of 100\n",
      "building tree 47 of 100\n",
      "building tree 48 of 100\n",
      "building tree 49 of 100\n",
      "building tree 50 of 100\n",
      "building tree 51 of 100\n",
      "building tree 52 of 100\n",
      "building tree 53 of 100\n",
      "building tree 54 of 100\n",
      "building tree 55 of 100\n",
      "building tree 56 of 100\n",
      "building tree 57 of 100\n",
      "building tree 58 of 100\n",
      "building tree 59 of 100\n",
      "building tree 60 of 100\n",
      "building tree 61 of 100\n",
      "building tree 62 of 100\n",
      "building tree 63 of 100\n",
      "building tree 64 of 100\n",
      "building tree 65 of 100\n",
      "building tree 66 of 100\n",
      "building tree 67 of 100\n",
      "building tree 68 of 100\n",
      "building tree 69 of 100\n",
      "building tree 70 of 100\n",
      "building tree 71 of 100\n",
      "building tree 72 of 100\n",
      "building tree 73 of 100\n",
      "building tree 74 of 100\n",
      "building tree 75 of 100\n",
      "building tree 76 of 100\n",
      "building tree 77 of 100\n",
      "building tree 78 of 100\n",
      "building tree 79 of 100\n",
      "building tree 80 of 100\n",
      "building tree 81 of 100\n",
      "building tree 82 of 100\n",
      "building tree 83 of 100\n",
      "building tree 84 of 100\n",
      "building tree 85 of 100\n",
      "building tree 86 of 100\n",
      "building tree 87 of 100\n",
      "building tree 88 of 100\n",
      "building tree 89 of 100\n",
      "building tree 90 of 100\n",
      "building tree 91 of 100\n",
      "building tree 92 of 100\n",
      "building tree 93 of 100\n",
      "building tree 94 of 100\n",
      "building tree 95 of 100\n",
      "building tree 96 of 100\n",
      "building tree 97 of 100\n",
      "building tree 98 of 100\n",
      "building tree 99 of 100\n",
      "building tree 100 of 100\n"
     ]
    },
    {
     "name": "stderr",
     "output_type": "stream",
     "text": [
      "[Parallel(n_jobs=1)]: Done 100 out of 100 | elapsed:   24.2s finished\n",
      "[Parallel(n_jobs=1)]: Using backend SequentialBackend with 1 concurrent workers.\n",
      "[Parallel(n_jobs=1)]: Done   1 out of   1 | elapsed:    0.0s remaining:    0.0s\n"
     ]
    },
    {
     "name": "stdout",
     "output_type": "stream",
     "text": [
      "coefficient of determination: 0.9011097555270134\n"
     ]
    },
    {
     "name": "stderr",
     "output_type": "stream",
     "text": [
      "[Parallel(n_jobs=1)]: Done 100 out of 100 | elapsed:    8.3s finished\n"
     ]
    }
   ],
   "source": [
    "# Entrenamos el modelo variando los parámetros, y vemos que el modelo mejora de 0.9020 a 0.9011\n",
    "\n",
    "model_2 = RandomForestRegressor(n_estimators = 100, random_state = 42, bootstrap = True, verbose=2).fit(X_train,y_train) \n",
    "r_sq2 = model_2.score(X, y) # Calculamos el R2 para comprovar el ajuste en cada modelo.\n",
    "print('coefficient of determination:', r_sq2) "
   ]
  },
  {
   "cell_type": "code",
   "execution_count": 557,
   "metadata": {},
   "outputs": [
    {
     "name": "stdout",
     "output_type": "stream",
     "text": [
      "coefficient of determination: 0.7714881567335887\n"
     ]
    }
   ],
   "source": [
    "# Entrenamos el modelo y observamos que si limitamos la profundidad del árbol, el modelo empeora de 0.9020 a 0.7714\n",
    "\n",
    "model_3 = RandomForestRegressor(n_estimators = 200, max_depth=2, random_state=0).fit(X_train,y_train) \n",
    "r_sq3 = model_3.score(X, y) # Calculamos el R2 para comprovar el ajuste en cada modelo.\n",
    "print('coefficient of determination:', r_sq3) "
   ]
  },
  {
   "cell_type": "markdown",
   "metadata": {},
   "source": [
    "     "
   ]
  },
  {
   "cell_type": "code",
   "execution_count": null,
   "metadata": {},
   "outputs": [],
   "source": [
    "# MODELO DE REGRESIÓN POLINÓMICA #"
   ]
  },
  {
   "cell_type": "code",
   "execution_count": 1229,
   "metadata": {},
   "outputs": [],
   "source": [
    "X= np.array(file['DepDelay']).reshape((-1, 1)) #variable independiente (retraso en la salida)\n",
    "y= file['ArrDelay'] #variable dependiente (hora de llegada)"
   ]
  },
  {
   "cell_type": "code",
   "execution_count": 1230,
   "metadata": {},
   "outputs": [],
   "source": [
    "X = PolynomialFeatures(degree=3, include_bias=False).fit_transform(X)"
   ]
  },
  {
   "cell_type": "code",
   "execution_count": 1231,
   "metadata": {
    "scrolled": true
   },
   "outputs": [
    {
     "name": "stdout",
     "output_type": "stream",
     "text": [
      "coefficient of determination: 0.8996307938198441\n"
     ]
    }
   ],
   "source": [
    "model = LinearRegression().fit(X, y) # Parámetros por defecto\n",
    "r_sq = model.score(X, y) \n",
    "print('coefficient of determination:', r_sq) "
   ]
  },
  {
   "cell_type": "code",
   "execution_count": 1233,
   "metadata": {},
   "outputs": [
    {
     "name": "stdout",
     "output_type": "stream",
     "text": [
      "coefficient of determination: 0.8992242447719256\n"
     ]
    }
   ],
   "source": [
    "# Entrenamos el modelo variando los parámetros \n",
    "\n",
    "model_2 = LinearRegression(fit_intercept=False).fit(X, y) \n",
    "r_sq2 = model_2.score(X, y) # Calculamos el R2 para comprovar el ajuste en cada modelo.\n",
    "print('coefficient of determination:', r_sq2) "
   ]
  },
  {
   "cell_type": "code",
   "execution_count": 1234,
   "metadata": {},
   "outputs": [
    {
     "name": "stdout",
     "output_type": "stream",
     "text": [
      "coefficient of determination: 0.2978552024183604\n"
     ]
    }
   ],
   "source": [
    "# Entrenamos el modelo variando los parámetros, en este caso el modelo empeora considerablemente\n",
    "\n",
    "model_3 = LinearRegression(copy_X=False).fit(X, y) \n",
    "r_sq3 = model_3.score(X, y) # Calculamos el R2 para comprovar el ajuste en cada modelo.\n",
    "print('coefficient of determination:', r_sq3) "
   ]
  },
  {
   "cell_type": "markdown",
   "metadata": {},
   "source": [
    "### <span style=\"color:black\">Exercici 4.</span>"
   ]
  },
  {
   "cell_type": "markdown",
   "metadata": {},
   "source": [
    "__Compara el seu rendiment utilitzant l’aproximació traint/test o utilitzant totes les dades (validació interna):__ <span style=\"color:blue\">__[X] Fet__</span>"
   ]
  },
  {
   "cell_type": "code",
   "execution_count": null,
   "metadata": {},
   "outputs": [],
   "source": [
    "# Vamos a comparar el rendimiento de los modelos (utilizando train/test), contrastando los datos que han sido predecidos por\n",
    "# cada modelo con los datos reales. Así podremos comprobar qué modelo se ajusta más. #"
   ]
  },
  {
   "cell_type": "code",
   "execution_count": null,
   "metadata": {},
   "outputs": [],
   "source": [
    "# MODELO DE REGRESIÓN LINEAL SIMPLE #"
   ]
  },
  {
   "cell_type": "code",
   "execution_count": 558,
   "metadata": {},
   "outputs": [],
   "source": [
    "X= np.array(file['DepDelay']).reshape((-1, 1)) #variable independiente (retraso en la salida)\n",
    "y= file['ArrDelay'] #variable dependiente (retraso en la llegada)"
   ]
  },
  {
   "cell_type": "code",
   "execution_count": 559,
   "metadata": {},
   "outputs": [],
   "source": [
    "X_train, X_test, y_train, y_test = train_test_split(X, y, test_size=0.2, random_state=1234)"
   ]
  },
  {
   "cell_type": "code",
   "execution_count": 560,
   "metadata": {},
   "outputs": [],
   "source": [
    "model = LinearRegression().fit(X_train, y_train) "
   ]
  },
  {
   "cell_type": "code",
   "execution_count": 561,
   "metadata": {},
   "outputs": [],
   "source": [
    "y_pred = model.predict(X_test) # Ahora hagamos una predicción sobre los datos de la prueba."
   ]
  },
  {
   "cell_type": "code",
   "execution_count": 562,
   "metadata": {},
   "outputs": [
    {
     "data": {
      "text/html": [
       "<div>\n",
       "<style scoped>\n",
       "    .dataframe tbody tr th:only-of-type {\n",
       "        vertical-align: middle;\n",
       "    }\n",
       "\n",
       "    .dataframe tbody tr th {\n",
       "        vertical-align: top;\n",
       "    }\n",
       "\n",
       "    .dataframe thead th {\n",
       "        text-align: right;\n",
       "    }\n",
       "</style>\n",
       "<table border=\"1\" class=\"dataframe\">\n",
       "  <thead>\n",
       "    <tr style=\"text-align: right;\">\n",
       "      <th></th>\n",
       "      <th>Actual</th>\n",
       "      <th>Predicted</th>\n",
       "    </tr>\n",
       "  </thead>\n",
       "  <tbody>\n",
       "    <tr>\n",
       "      <th>318711</th>\n",
       "      <td>24.0</td>\n",
       "      <td>14.838383</td>\n",
       "    </tr>\n",
       "    <tr>\n",
       "      <th>1638937</th>\n",
       "      <td>19.0</td>\n",
       "      <td>21.884291</td>\n",
       "    </tr>\n",
       "    <tr>\n",
       "      <th>232293</th>\n",
       "      <td>24.0</td>\n",
       "      <td>41.008897</td>\n",
       "    </tr>\n",
       "    <tr>\n",
       "      <th>938296</th>\n",
       "      <td>23.0</td>\n",
       "      <td>44.028572</td>\n",
       "    </tr>\n",
       "    <tr>\n",
       "      <th>1353339</th>\n",
       "      <td>66.0</td>\n",
       "      <td>52.081038</td>\n",
       "    </tr>\n",
       "  </tbody>\n",
       "</table>\n",
       "</div>"
      ],
      "text/plain": [
       "         Actual  Predicted\n",
       "318711     24.0  14.838383\n",
       "1638937    19.0  21.884291\n",
       "232293     24.0  41.008897\n",
       "938296     23.0  44.028572\n",
       "1353339    66.0  52.081038"
      ]
     },
     "execution_count": 562,
     "metadata": {},
     "output_type": "execute_result"
    }
   ],
   "source": [
    "df = pd.DataFrame({'Actual': y_test, 'Predicted': y_pred}) #Revisemos la diferencia entre el valor real y el valor predecido.\n",
    "df.head()"
   ]
  },
  {
   "cell_type": "code",
   "execution_count": 563,
   "metadata": {},
   "outputs": [
    {
     "data": {
      "text/plain": [
       "(387352, 2)"
      ]
     },
     "execution_count": 563,
     "metadata": {},
     "output_type": "execute_result"
    }
   ],
   "source": [
    "df.shape "
   ]
  },
  {
   "cell_type": "code",
   "execution_count": 564,
   "metadata": {},
   "outputs": [
    {
     "data": {
      "text/html": [
       "<div>\n",
       "<style scoped>\n",
       "    .dataframe tbody tr th:only-of-type {\n",
       "        vertical-align: middle;\n",
       "    }\n",
       "\n",
       "    .dataframe tbody tr th {\n",
       "        vertical-align: top;\n",
       "    }\n",
       "\n",
       "    .dataframe thead th {\n",
       "        text-align: right;\n",
       "    }\n",
       "</style>\n",
       "<table border=\"1\" class=\"dataframe\">\n",
       "  <thead>\n",
       "    <tr style=\"text-align: right;\">\n",
       "      <th></th>\n",
       "      <th>Actual</th>\n",
       "      <th>Predicted</th>\n",
       "    </tr>\n",
       "  </thead>\n",
       "  <tbody>\n",
       "    <tr>\n",
       "      <th>0</th>\n",
       "      <td>24.0</td>\n",
       "      <td>14.838383</td>\n",
       "    </tr>\n",
       "    <tr>\n",
       "      <th>1</th>\n",
       "      <td>19.0</td>\n",
       "      <td>21.884291</td>\n",
       "    </tr>\n",
       "    <tr>\n",
       "      <th>2</th>\n",
       "      <td>24.0</td>\n",
       "      <td>41.008897</td>\n",
       "    </tr>\n",
       "    <tr>\n",
       "      <th>3</th>\n",
       "      <td>23.0</td>\n",
       "      <td>44.028572</td>\n",
       "    </tr>\n",
       "    <tr>\n",
       "      <th>4</th>\n",
       "      <td>66.0</td>\n",
       "      <td>52.081038</td>\n",
       "    </tr>\n",
       "  </tbody>\n",
       "</table>\n",
       "</div>"
      ],
      "text/plain": [
       "   Actual  Predicted\n",
       "0    24.0  14.838383\n",
       "1    19.0  21.884291\n",
       "2    24.0  41.008897\n",
       "3    23.0  44.028572\n",
       "4    66.0  52.081038"
      ]
     },
     "execution_count": 564,
     "metadata": {},
     "output_type": "execute_result"
    }
   ],
   "source": [
    "y_test = y_test.values.reshape(387352, 1) # pasamos el df a numpy para graficar\n",
    "df = pd.DataFrame({'Actual': y_test.flatten(), 'Predicted': y_pred.flatten()}) # el método flatten() devuelve una copia del array a una única dimensión\n",
    "df.head()"
   ]
  },
  {
   "cell_type": "code",
   "execution_count": 565,
   "metadata": {},
   "outputs": [
    {
     "data": {
      "image/png": "[encoded data removed]",
      "text/plain": [
       "<Figure size 1008x648 with 1 Axes>"
      ]
     },
     "metadata": {},
     "output_type": "display_data"
    }
   ],
   "source": [
    "# Aunque nuestro modelo no es muy preciso, los porcentajes predichos se acercan a los reales.\n",
    "\n",
    "df1 = df.head(25) # Vamos a graficar las 25 primeras entradas \n",
    "\n",
    "df1.plot(kind='bar',figsize=(14,9))\n",
    "plt.show()"
   ]
  },
  {
   "cell_type": "code",
   "execution_count": 566,
   "metadata": {
    "scrolled": true
   },
   "outputs": [
    {
     "data": {
      "image/png": "[encoded data removed]",
      "text/plain": [
       "<Figure size 1008x360 with 1 Axes>"
      ]
     },
     "metadata": {},
     "output_type": "display_data"
    }
   ],
   "source": [
    "# Vamos a trazar nuestra línea recta con los datos de la prueba para ver la predicción. La línea recta del gráfico muestra que \n",
    "# nuestro algoritmo es bastante correcto. \n",
    "\n",
    "fig, ax = plt.subplots(figsize = (14, 5))\n",
    "plt.scatter(X_test, y_test,  color='gray')\n",
    "plt.plot(X_test, y_pred, color='red', linewidth=3)\n",
    "plt.show()"
   ]
  },
  {
   "cell_type": "markdown",
   "metadata": {},
   "source": [
    "   "
   ]
  },
  {
   "cell_type": "code",
   "execution_count": null,
   "metadata": {},
   "outputs": [],
   "source": [
    "# MODELO DE REGRESIÓN RANDOM FOREST #"
   ]
  },
  {
   "cell_type": "code",
   "execution_count": 567,
   "metadata": {},
   "outputs": [],
   "source": [
    "df = pd.DataFrame()\n",
    "df['X'] = file['DepDelay'] #variable independiente (retraso en la salida)\n",
    "df['y'] = file['ArrDelay'] #variable dependiente (retraso en la llegada)"
   ]
  },
  {
   "cell_type": "code",
   "execution_count": 568,
   "metadata": {},
   "outputs": [],
   "source": [
    "df = df.sample(frac=0.30) # extraemos una muestra aleatoria del 30%, así nos aseguramos que es lo suficientemente representativa"
   ]
  },
  {
   "cell_type": "code",
   "execution_count": 569,
   "metadata": {},
   "outputs": [],
   "source": [
    "# Asignamos las variables con las que vamos a trabajar en el algoritmo\n",
    "\n",
    "X= np.array(df['X']).reshape((-1, 1)) #variable independiente (retraso en la salida)\n",
    "y= df['y'] #variable dependiente (retraso en la llegada)"
   ]
  },
  {
   "cell_type": "code",
   "execution_count": 570,
   "metadata": {},
   "outputs": [
    {
     "data": {
      "text/plain": [
       "dtype('float64')"
      ]
     },
     "execution_count": 570,
     "metadata": {},
     "output_type": "execute_result"
    }
   ],
   "source": [
    "y.dtype"
   ]
  },
  {
   "cell_type": "code",
   "execution_count": 571,
   "metadata": {},
   "outputs": [],
   "source": [
    "y=y.round(0).astype(int) # pasamos nuestra variable y a integer ya que RandomForest me da problema con los valores float"
   ]
  },
  {
   "cell_type": "code",
   "execution_count": 572,
   "metadata": {},
   "outputs": [],
   "source": [
    "X_train, X_test, y_train, y_test = train_test_split(X, y, test_size=0.2, random_state=0)"
   ]
  },
  {
   "cell_type": "code",
   "execution_count": 573,
   "metadata": {},
   "outputs": [
    {
     "name": "stdout",
     "output_type": "stream",
     "text": [
      "coefficient of determination: 0.900657467079892\n"
     ]
    }
   ],
   "source": [
    "model = RandomForestRegressor(n_estimators = 1000, random_state = 0).fit(X_train,y_train)\n",
    "\n",
    "r_sq = model.score(X, y) # Calculamos el R2 para comprovar el ajuste en cada modelo.\n",
    "print('coefficient of determination:', r_sq) # el ajuste del modelo es de 0.90, por lo que es bastante bueno"
   ]
  },
  {
   "cell_type": "code",
   "execution_count": 574,
   "metadata": {},
   "outputs": [],
   "source": [
    "y_pred = model.predict(X_test) # Ahora hacemos una predicción sobre los datos de la prueba."
   ]
  },
  {
   "cell_type": "code",
   "execution_count": 575,
   "metadata": {},
   "outputs": [
    {
     "data": {
      "text/html": [
       "<div>\n",
       "<style scoped>\n",
       "    .dataframe tbody tr th:only-of-type {\n",
       "        vertical-align: middle;\n",
       "    }\n",
       "\n",
       "    .dataframe tbody tr th {\n",
       "        vertical-align: top;\n",
       "    }\n",
       "\n",
       "    .dataframe thead th {\n",
       "        text-align: right;\n",
       "    }\n",
       "</style>\n",
       "<table border=\"1\" class=\"dataframe\">\n",
       "  <thead>\n",
       "    <tr style=\"text-align: right;\">\n",
       "      <th></th>\n",
       "      <th>Actual</th>\n",
       "      <th>Predicted</th>\n",
       "    </tr>\n",
       "  </thead>\n",
       "  <tbody>\n",
       "    <tr>\n",
       "      <th>1716302</th>\n",
       "      <td>4</td>\n",
       "      <td>10.240289</td>\n",
       "    </tr>\n",
       "    <tr>\n",
       "      <th>970703</th>\n",
       "      <td>178</td>\n",
       "      <td>186.954233</td>\n",
       "    </tr>\n",
       "    <tr>\n",
       "      <th>1522039</th>\n",
       "      <td>3</td>\n",
       "      <td>5.192955</td>\n",
       "    </tr>\n",
       "    <tr>\n",
       "      <th>1394884</th>\n",
       "      <td>18</td>\n",
       "      <td>36.979851</td>\n",
       "    </tr>\n",
       "    <tr>\n",
       "      <th>1898855</th>\n",
       "      <td>20</td>\n",
       "      <td>13.951477</td>\n",
       "    </tr>\n",
       "  </tbody>\n",
       "</table>\n",
       "</div>"
      ],
      "text/plain": [
       "         Actual   Predicted\n",
       "1716302       4   10.240289\n",
       "970703      178  186.954233\n",
       "1522039       3    5.192955\n",
       "1394884      18   36.979851\n",
       "1898855      20   13.951477"
      ]
     },
     "execution_count": 575,
     "metadata": {},
     "output_type": "execute_result"
    }
   ],
   "source": [
    "df = pd.DataFrame({'Actual': y_test, 'Predicted': y_pred}) #Revisemos la diferencia entre el valor real y el valor predecido.\n",
    "df.head()"
   ]
  },
  {
   "cell_type": "code",
   "execution_count": 576,
   "metadata": {},
   "outputs": [
    {
     "data": {
      "text/plain": [
       "(116206, 2)"
      ]
     },
     "execution_count": 576,
     "metadata": {},
     "output_type": "execute_result"
    }
   ],
   "source": [
    "df.shape"
   ]
  },
  {
   "cell_type": "code",
   "execution_count": 578,
   "metadata": {},
   "outputs": [
    {
     "data": {
      "text/html": [
       "<div>\n",
       "<style scoped>\n",
       "    .dataframe tbody tr th:only-of-type {\n",
       "        vertical-align: middle;\n",
       "    }\n",
       "\n",
       "    .dataframe tbody tr th {\n",
       "        vertical-align: top;\n",
       "    }\n",
       "\n",
       "    .dataframe thead th {\n",
       "        text-align: right;\n",
       "    }\n",
       "</style>\n",
       "<table border=\"1\" class=\"dataframe\">\n",
       "  <thead>\n",
       "    <tr style=\"text-align: right;\">\n",
       "      <th></th>\n",
       "      <th>Actual</th>\n",
       "      <th>Predicted</th>\n",
       "    </tr>\n",
       "  </thead>\n",
       "  <tbody>\n",
       "    <tr>\n",
       "      <th>116201</th>\n",
       "      <td>52</td>\n",
       "      <td>57.613355</td>\n",
       "    </tr>\n",
       "    <tr>\n",
       "      <th>116202</th>\n",
       "      <td>54</td>\n",
       "      <td>53.351079</td>\n",
       "    </tr>\n",
       "    <tr>\n",
       "      <th>116203</th>\n",
       "      <td>54</td>\n",
       "      <td>61.217889</td>\n",
       "    </tr>\n",
       "    <tr>\n",
       "      <th>116204</th>\n",
       "      <td>16</td>\n",
       "      <td>26.443329</td>\n",
       "    </tr>\n",
       "    <tr>\n",
       "      <th>116205</th>\n",
       "      <td>12</td>\n",
       "      <td>26.443329</td>\n",
       "    </tr>\n",
       "  </tbody>\n",
       "</table>\n",
       "</div>"
      ],
      "text/plain": [
       "        Actual  Predicted\n",
       "116201      52  57.613355\n",
       "116202      54  53.351079\n",
       "116203      54  61.217889\n",
       "116204      16  26.443329\n",
       "116205      12  26.443329"
      ]
     },
     "execution_count": 578,
     "metadata": {},
     "output_type": "execute_result"
    }
   ],
   "source": [
    "y_test = y_test.values.reshape(116206, 1) # pasamos el df a numpy para graficar\n",
    "df = pd.DataFrame({'Actual': y_test.flatten(), 'Predicted': y_pred.flatten()}) # el método flatten() devuelve una copia del array a una única dimensión\n",
    "df.tail()"
   ]
  },
  {
   "cell_type": "code",
   "execution_count": 579,
   "metadata": {},
   "outputs": [
    {
     "data": {
      "image/png": "[encoded data removed]",
      "text/plain": [
       "<Figure size 1008x648 with 1 Axes>"
      ]
     },
     "metadata": {},
     "output_type": "display_data"
    }
   ],
   "source": [
    "# Aunque nuestro modelo no es muy preciso, los porcentajes predichos se acercan a los reales.\n",
    "\n",
    "df1 = df.head(30) # Vamos a graficar las 25 primeras entradas \n",
    "\n",
    "df1.plot(kind='bar',figsize=(14,9))\n",
    "plt.show()"
   ]
  },
  {
   "cell_type": "code",
   "execution_count": 583,
   "metadata": {},
   "outputs": [
    {
     "data": {
      "image/png": "[encoded data removed]",
      "text/plain": [
       "<Figure size 1008x432 with 1 Axes>"
      ]
     },
     "metadata": {},
     "output_type": "display_data"
    }
   ],
   "source": [
    "# Vamos a trazar nuestra línea recta con los datos de la prueba para ver la predicción La línea recta del gráfico\n",
    "# muestra que nuestro algoritmo es muy correcto. \n",
    "\n",
    "fig, ax = plt.subplots(figsize = (14, 6))\n",
    "plt.scatter(X_test, y_test,  color='green')\n",
    "#plt.plot(X_test, y_pred,  color='red', linewidth=2)\n",
    "plt.show()"
   ]
  },
  {
   "cell_type": "markdown",
   "metadata": {
    "scrolled": true
   },
   "source": [
    "       "
   ]
  },
  {
   "cell_type": "code",
   "execution_count": null,
   "metadata": {},
   "outputs": [],
   "source": [
    "# MODELO DE REGRESIÓN POLINÓMICA #"
   ]
  },
  {
   "cell_type": "code",
   "execution_count": 602,
   "metadata": {},
   "outputs": [],
   "source": [
    "X= np.array(file['DepDelay']).reshape((-1, 1)) #variable independiente (retraso en la salida)\n",
    "y= file['ArrDelay'] #variable dependiente (retraso en la llegada)"
   ]
  },
  {
   "cell_type": "code",
   "execution_count": 603,
   "metadata": {},
   "outputs": [],
   "source": [
    "X = PolynomialFeatures(degree=4, include_bias=False).fit_transform(X)"
   ]
  },
  {
   "cell_type": "code",
   "execution_count": 604,
   "metadata": {},
   "outputs": [],
   "source": [
    "X_train, X_test, y_train, y_test = train_test_split(X, y, test_size=0.2, random_state=0)"
   ]
  },
  {
   "cell_type": "code",
   "execution_count": 605,
   "metadata": {},
   "outputs": [],
   "source": [
    "model = LinearRegression().fit(X_train, y_train) "
   ]
  },
  {
   "cell_type": "code",
   "execution_count": 606,
   "metadata": {},
   "outputs": [],
   "source": [
    "y_pred = model.predict(X_test) # Ahora hagamos una predicción sobre los datos de la prueba."
   ]
  },
  {
   "cell_type": "code",
   "execution_count": 607,
   "metadata": {},
   "outputs": [
    {
     "data": {
      "text/plain": [
       "((387352, 4), (387352,))"
      ]
     },
     "execution_count": 607,
     "metadata": {},
     "output_type": "execute_result"
    }
   ],
   "source": [
    "X_test.shape, y_test.shape"
   ]
  },
  {
   "cell_type": "code",
   "execution_count": 608,
   "metadata": {},
   "outputs": [
    {
     "data": {
      "text/html": [
       "<div>\n",
       "<style scoped>\n",
       "    .dataframe tbody tr th:only-of-type {\n",
       "        vertical-align: middle;\n",
       "    }\n",
       "\n",
       "    .dataframe tbody tr th {\n",
       "        vertical-align: top;\n",
       "    }\n",
       "\n",
       "    .dataframe thead th {\n",
       "        text-align: right;\n",
       "    }\n",
       "</style>\n",
       "<table border=\"1\" class=\"dataframe\">\n",
       "  <thead>\n",
       "    <tr style=\"text-align: right;\">\n",
       "      <th></th>\n",
       "      <th>Actual</th>\n",
       "      <th>Predicted</th>\n",
       "    </tr>\n",
       "  </thead>\n",
       "  <tbody>\n",
       "    <tr>\n",
       "      <th>595091</th>\n",
       "      <td>9.0</td>\n",
       "      <td>20.758196</td>\n",
       "    </tr>\n",
       "    <tr>\n",
       "      <th>699277</th>\n",
       "      <td>-3.0</td>\n",
       "      <td>5.251061</td>\n",
       "    </tr>\n",
       "    <tr>\n",
       "      <th>513280</th>\n",
       "      <td>13.0</td>\n",
       "      <td>20.758196</td>\n",
       "    </tr>\n",
       "    <tr>\n",
       "      <th>555111</th>\n",
       "      <td>11.0</td>\n",
       "      <td>14.564190</td>\n",
       "    </tr>\n",
       "    <tr>\n",
       "      <th>1269142</th>\n",
       "      <td>19.0</td>\n",
       "      <td>17.662649</td>\n",
       "    </tr>\n",
       "  </tbody>\n",
       "</table>\n",
       "</div>"
      ],
      "text/plain": [
       "         Actual  Predicted\n",
       "595091      9.0  20.758196\n",
       "699277     -3.0   5.251061\n",
       "513280     13.0  20.758196\n",
       "555111     11.0  14.564190\n",
       "1269142    19.0  17.662649"
      ]
     },
     "execution_count": 608,
     "metadata": {},
     "output_type": "execute_result"
    }
   ],
   "source": [
    "df = pd.DataFrame({'Actual': y_test, 'Predicted': y_pred}) #Revisemos la diferencia entre el valor real y el valor predecido.\n",
    "df.head()"
   ]
  },
  {
   "cell_type": "code",
   "execution_count": 609,
   "metadata": {},
   "outputs": [
    {
     "data": {
      "text/plain": [
       "(387352, 2)"
      ]
     },
     "execution_count": 609,
     "metadata": {},
     "output_type": "execute_result"
    }
   ],
   "source": [
    "df.shape "
   ]
  },
  {
   "cell_type": "code",
   "execution_count": 610,
   "metadata": {},
   "outputs": [
    {
     "data": {
      "text/html": [
       "<div>\n",
       "<style scoped>\n",
       "    .dataframe tbody tr th:only-of-type {\n",
       "        vertical-align: middle;\n",
       "    }\n",
       "\n",
       "    .dataframe tbody tr th {\n",
       "        vertical-align: top;\n",
       "    }\n",
       "\n",
       "    .dataframe thead th {\n",
       "        text-align: right;\n",
       "    }\n",
       "</style>\n",
       "<table border=\"1\" class=\"dataframe\">\n",
       "  <thead>\n",
       "    <tr style=\"text-align: right;\">\n",
       "      <th></th>\n",
       "      <th>Actual</th>\n",
       "      <th>Predicted</th>\n",
       "    </tr>\n",
       "  </thead>\n",
       "  <tbody>\n",
       "    <tr>\n",
       "      <th>0</th>\n",
       "      <td>9.0</td>\n",
       "      <td>20.758196</td>\n",
       "    </tr>\n",
       "    <tr>\n",
       "      <th>1</th>\n",
       "      <td>-3.0</td>\n",
       "      <td>5.251061</td>\n",
       "    </tr>\n",
       "    <tr>\n",
       "      <th>2</th>\n",
       "      <td>13.0</td>\n",
       "      <td>20.758196</td>\n",
       "    </tr>\n",
       "    <tr>\n",
       "      <th>3</th>\n",
       "      <td>11.0</td>\n",
       "      <td>14.564190</td>\n",
       "    </tr>\n",
       "    <tr>\n",
       "      <th>4</th>\n",
       "      <td>19.0</td>\n",
       "      <td>17.662649</td>\n",
       "    </tr>\n",
       "  </tbody>\n",
       "</table>\n",
       "</div>"
      ],
      "text/plain": [
       "   Actual  Predicted\n",
       "0     9.0  20.758196\n",
       "1    -3.0   5.251061\n",
       "2    13.0  20.758196\n",
       "3    11.0  14.564190\n",
       "4    19.0  17.662649"
      ]
     },
     "execution_count": 610,
     "metadata": {},
     "output_type": "execute_result"
    }
   ],
   "source": [
    "y_test = y_test.values.reshape(387352, 1) # pasamos el df a numpy para graficar\n",
    "df = pd.DataFrame({'Actual': y_test.flatten(), 'Predicted': y_pred.flatten()}) # el método flatten() devuelve una copia del array a una única dimensión\n",
    "df.head()"
   ]
  },
  {
   "cell_type": "code",
   "execution_count": 611,
   "metadata": {},
   "outputs": [
    {
     "data": {
      "image/png": "[encoded data removed]",
      "text/plain": [
       "<Figure size 1008x648 with 1 Axes>"
      ]
     },
     "metadata": {},
     "output_type": "display_data"
    }
   ],
   "source": [
    "# Aunque nuestro modelo no es muy preciso, los porcentajes predichos se acercan a los reales.\n",
    "\n",
    "df1 = df.head(25) # Vamos a graficar las 25 primeras entradas \n",
    "\n",
    "df1.plot(kind='bar',figsize=(14,9))\n",
    "plt.show()"
   ]
  },
  {
   "cell_type": "code",
   "execution_count": 613,
   "metadata": {
    "scrolled": true
   },
   "outputs": [
    {
     "data": {
      "image/png": "[encoded data removed]",
      "text/plain": [
       "<Figure size 1008x360 with 1 Axes>"
      ]
     },
     "metadata": {},
     "output_type": "display_data"
    }
   ],
   "source": [
    "# En este caso, vamos a a visualizar la correlación entre los datos reales y los datos predecidos, ya que X_test\n",
    "# es multidimensional. En este caso vemos que el gráfico muestra una línea bastante recta, lo que nos dice que nuestro algoritmo \n",
    "# es bastante correcto. \n",
    "\n",
    "fig, ax = plt.subplots(figsize = (14, 5))\n",
    "plt.scatter(df['Predicted'], df['Actual'], color='green')\n",
    "#plt.plot(X_test, y_pred, color='pink', linewidth=2)\n",
    "plt.show()"
   ]
  },
  {
   "cell_type": "markdown",
   "metadata": {},
   "source": [
    "   "
   ]
  },
  {
   "cell_type": "markdown",
   "metadata": {},
   "source": [
    "    "
   ]
  },
  {
   "cell_type": "markdown",
   "metadata": {},
   "source": [
    "### <span style=\"color:black\">Exercici 5.</span>"
   ]
  },
  {
   "cell_type": "markdown",
   "metadata": {},
   "source": [
    "__Realitza algun procés d’enginyeria de variables per millorar-ne la predicció:__<span style=\"color:blue\">__[X] Fet__</span>"
   ]
  },
  {
   "cell_type": "code",
   "execution_count": null,
   "metadata": {},
   "outputs": [],
   "source": [
    "# En los ejercicios anteriores hemos visto que el modelo de regresión lineal simple era el menos preciso, por muy poco, de los 3\n",
    "# modelos, pero quizá podría mejorarse el el algoritmo si eliminamos los outliers y standarizamos los valores y, por tanto, \n",
    "# realizar predicciones mucho más ajustadas. Vamos a verlo.  "
   ]
  },
  {
   "cell_type": "code",
   "execution_count": 777,
   "metadata": {},
   "outputs": [],
   "source": [
    "# Volvemos a definir las variables.\n",
    "\n",
    "X= np.array(file['DepDelay']).reshape((-1, 1)) #variable independiente (retraso en la salida)\n",
    "y= file['ArrDelay'] #variable dependiente (retraso en la llegada)"
   ]
  },
  {
   "cell_type": "code",
   "execution_count": 779,
   "metadata": {},
   "outputs": [
    {
     "name": "stderr",
     "output_type": "stream",
     "text": [
      "c:\\users\\marta\\appdata\\local\\programs\\python\\python37\\lib\\site-packages\\seaborn\\_decorators.py:43: FutureWarning: Pass the following variable as a keyword arg: x. From version 0.12, the only valid positional argument will be `data`, and passing other arguments without an explicit keyword will result in an error or misinterpretation.\n",
      "  FutureWarning\n"
     ]
    },
    {
     "data": {
      "image/png": "[encoded data removed]",
      "text/plain": [
       "<Figure size 1080x360 with 1 Axes>"
      ]
     },
     "metadata": {},
     "output_type": "display_data"
    }
   ],
   "source": [
    "# En los dos gráficos siguientes observamos que tanto en DepDelay como en ArrDelay hay muchísimos outliers. \n",
    "\n",
    "plt.figure(figsize=(15,5))\n",
    "sns.set_theme(style=\"whitegrid\")\n",
    "ax = sns.boxplot(y)"
   ]
  },
  {
   "cell_type": "code",
   "execution_count": 780,
   "metadata": {
    "scrolled": true
   },
   "outputs": [
    {
     "name": "stderr",
     "output_type": "stream",
     "text": [
      "c:\\users\\marta\\appdata\\local\\programs\\python\\python37\\lib\\site-packages\\seaborn\\_decorators.py:43: FutureWarning: Pass the following variable as a keyword arg: x. From version 0.12, the only valid positional argument will be `data`, and passing other arguments without an explicit keyword will result in an error or misinterpretation.\n",
      "  FutureWarning\n"
     ]
    },
    {
     "data": {
      "image/png": "[encoded data removed]",
      "text/plain": [
       "<Figure size 1080x360 with 1 Axes>"
      ]
     },
     "metadata": {},
     "output_type": "display_data"
    }
   ],
   "source": [
    "plt.figure(figsize=(15,5))\n",
    "sns.set_theme(style=\"whitegrid\")\n",
    "ax = sns.boxplot(X)"
   ]
  },
  {
   "cell_type": "code",
   "execution_count": 781,
   "metadata": {},
   "outputs": [],
   "source": [
    "# En los siguientes pasos, vamos a preceder a crear un dataframe con ambas variables y eliminar los outliers entre los  \n",
    "# cuartiles 0.25 y 0.75 "
   ]
  },
  {
   "cell_type": "code",
   "execution_count": 782,
   "metadata": {},
   "outputs": [],
   "source": [
    "df=pd.DataFrame()\n",
    "df=pd.DataFrame(X, columns=['X'])\n",
    "df['y']=pd.DataFrame(y)"
   ]
  },
  {
   "cell_type": "code",
   "execution_count": 783,
   "metadata": {},
   "outputs": [
    {
     "data": {
      "text/plain": [
       "(1764508, 2)"
      ]
     },
     "execution_count": 783,
     "metadata": {},
     "output_type": "execute_result"
    }
   ],
   "source": [
    "# Eliminamos los outliers\n",
    "\n",
    "Q1 = df.quantile(q=.25)\n",
    "Q3 = df.quantile(q=.75)\n",
    "IQR = df.apply(stats.iqr)\n",
    "\n",
    "# mantiene filas en el marco de datos que tengan valores dentro de 1.5 * IQR de Q1 y Q3\n",
    "data_clean = df[~((df < (Q1-1.5*IQR)) | (df > (Q3+1.5*IQR))).any(axis=1)]\n",
    "\n",
    "# vemos las filas que quedan\n",
    "data_clean.shape"
   ]
  },
  {
   "cell_type": "code",
   "execution_count": 786,
   "metadata": {},
   "outputs": [
    {
     "data": {
      "text/plain": [
       "array([[-0.89800506, -1.48571029],\n",
       "       [-0.46283205, -0.93212239],\n",
       "       [-0.89800506, -0.51693146],\n",
       "       ...,\n",
       "       [ 1.95040015,  2.4240043 ],\n",
       "       [-0.77932151, -0.68992768],\n",
       "       [-0.93756625, -1.1743171 ]])"
      ]
     },
     "execution_count": 786,
     "metadata": {},
     "output_type": "execute_result"
    }
   ],
   "source": [
    "# Como comentábamos en al comentar el ejercicio, una vez eliminados los outliers, vamos a estandarizar los valores de ambas \n",
    "# variables.  \n",
    "\n",
    "ss = StandardScaler()\n",
    "file_transformed = ss.fit_transform(data_clean)\n",
    "file_transformed"
   ]
  },
  {
   "cell_type": "code",
   "execution_count": 787,
   "metadata": {},
   "outputs": [],
   "source": [
    "stack = pd.DataFrame(file_transformed)"
   ]
  },
  {
   "cell_type": "code",
   "execution_count": 788,
   "metadata": {},
   "outputs": [
    {
     "data": {
      "text/html": [
       "<div>\n",
       "<style scoped>\n",
       "    .dataframe tbody tr th:only-of-type {\n",
       "        vertical-align: middle;\n",
       "    }\n",
       "\n",
       "    .dataframe tbody tr th {\n",
       "        vertical-align: top;\n",
       "    }\n",
       "\n",
       "    .dataframe thead th {\n",
       "        text-align: right;\n",
       "    }\n",
       "</style>\n",
       "<table border=\"1\" class=\"dataframe\">\n",
       "  <thead>\n",
       "    <tr style=\"text-align: right;\">\n",
       "      <th></th>\n",
       "      <th>0</th>\n",
       "      <th>1</th>\n",
       "    </tr>\n",
       "  </thead>\n",
       "  <tbody>\n",
       "    <tr>\n",
       "      <th>0</th>\n",
       "      <td>-0.898005</td>\n",
       "      <td>-1.485710</td>\n",
       "    </tr>\n",
       "    <tr>\n",
       "      <th>1</th>\n",
       "      <td>-0.462832</td>\n",
       "      <td>-0.932122</td>\n",
       "    </tr>\n",
       "    <tr>\n",
       "      <th>2</th>\n",
       "      <td>-0.898005</td>\n",
       "      <td>-0.516931</td>\n",
       "    </tr>\n",
       "    <tr>\n",
       "      <th>3</th>\n",
       "      <td>0.130586</td>\n",
       "      <td>0.175053</td>\n",
       "    </tr>\n",
       "    <tr>\n",
       "      <th>4</th>\n",
       "      <td>-0.225465</td>\n",
       "      <td>-0.620729</td>\n",
       "    </tr>\n",
       "  </tbody>\n",
       "</table>\n",
       "</div>"
      ],
      "text/plain": [
       "          0         1\n",
       "0 -0.898005 -1.485710\n",
       "1 -0.462832 -0.932122\n",
       "2 -0.898005 -0.516931\n",
       "3  0.130586  0.175053\n",
       "4 -0.225465 -0.620729"
      ]
     },
     "execution_count": 788,
     "metadata": {},
     "output_type": "execute_result"
    }
   ],
   "source": [
    "stack.head()"
   ]
  },
  {
   "cell_type": "code",
   "execution_count": 801,
   "metadata": {},
   "outputs": [],
   "source": [
    "X= np.array(data_clean['X']).reshape(-1, 1) #variable independiente (retrasos en la salida)\n",
    "y= data_clean['y'] #variable dependiente (retraso en la llegada)"
   ]
  },
  {
   "cell_type": "code",
   "execution_count": 802,
   "metadata": {},
   "outputs": [],
   "source": [
    "model = LinearRegression().fit(X, y) # Creamos el modelo y lo ajustamos"
   ]
  },
  {
   "cell_type": "code",
   "execution_count": 803,
   "metadata": {},
   "outputs": [],
   "source": [
    "y_pred = model.predict(X) # Ahora hagamos una predicción sobre los datos de la prueba."
   ]
  },
  {
   "cell_type": "code",
   "execution_count": 804,
   "metadata": {},
   "outputs": [
    {
     "data": {
      "text/plain": [
       "((1764508,), (1764508,), (1764508, 1))"
      ]
     },
     "execution_count": 804,
     "metadata": {},
     "output_type": "execute_result"
    }
   ],
   "source": [
    "y_pred.shape, y.shape, X.shape"
   ]
  },
  {
   "cell_type": "code",
   "execution_count": 805,
   "metadata": {},
   "outputs": [
    {
     "data": {
      "text/html": [
       "<div>\n",
       "<style scoped>\n",
       "    .dataframe tbody tr th:only-of-type {\n",
       "        vertical-align: middle;\n",
       "    }\n",
       "\n",
       "    .dataframe tbody tr th {\n",
       "        vertical-align: top;\n",
       "    }\n",
       "\n",
       "    .dataframe thead th {\n",
       "        text-align: right;\n",
       "    }\n",
       "</style>\n",
       "<table border=\"1\" class=\"dataframe\">\n",
       "  <thead>\n",
       "    <tr style=\"text-align: right;\">\n",
       "      <th></th>\n",
       "      <th>Actual</th>\n",
       "      <th>Predicted</th>\n",
       "    </tr>\n",
       "  </thead>\n",
       "  <tbody>\n",
       "    <tr>\n",
       "      <th>0</th>\n",
       "      <td>-14.0</td>\n",
       "      <td>6.550975</td>\n",
       "    </tr>\n",
       "    <tr>\n",
       "      <th>1</th>\n",
       "      <td>2.0</td>\n",
       "      <td>17.400953</td>\n",
       "    </tr>\n",
       "    <tr>\n",
       "      <th>2</th>\n",
       "      <td>14.0</td>\n",
       "      <td>6.550975</td>\n",
       "    </tr>\n",
       "    <tr>\n",
       "      <th>3</th>\n",
       "      <td>34.0</td>\n",
       "      <td>32.196378</td>\n",
       "    </tr>\n",
       "    <tr>\n",
       "      <th>4</th>\n",
       "      <td>11.0</td>\n",
       "      <td>23.319123</td>\n",
       "    </tr>\n",
       "  </tbody>\n",
       "</table>\n",
       "</div>"
      ],
      "text/plain": [
       "   Actual  Predicted\n",
       "0   -14.0   6.550975\n",
       "1     2.0  17.400953\n",
       "2    14.0   6.550975\n",
       "3    34.0  32.196378\n",
       "4    11.0  23.319123"
      ]
     },
     "execution_count": 805,
     "metadata": {},
     "output_type": "execute_result"
    }
   ],
   "source": [
    "y = y.values.reshape(1764508, 1) # pasamos el df a numpy para graficar\n",
    "df = pd.DataFrame({'Actual': y.flatten(), 'Predicted': y_pred.flatten()}) # el método flatten() devuelve una copia del array a una única dimensión\n",
    "df.head()"
   ]
  },
  {
   "cell_type": "code",
   "execution_count": 806,
   "metadata": {},
   "outputs": [
    {
     "data": {
      "image/png": "[encoded data removed]",
      "text/plain": [
       "<Figure size 1008x648 with 1 Axes>"
      ]
     },
     "metadata": {},
     "output_type": "display_data"
    }
   ],
   "source": [
    "#Por el resultado del gráfico parece que sí hemos podido mejorar nuestro algoritmo.\n",
    "\n",
    "df1 = df.head(30) # Vamos a graficar las 30 últimas entradas \n",
    "\n",
    "df1.plot(kind='bar',figsize=(14,9))\n",
    "plt.show()"
   ]
  },
  {
   "cell_type": "code",
   "execution_count": 807,
   "metadata": {},
   "outputs": [],
   "source": [
    "r_sq = model.score(X, y) "
   ]
  },
  {
   "cell_type": "code",
   "execution_count": 808,
   "metadata": {},
   "outputs": [
    {
     "name": "stdout",
     "output_type": "stream",
     "text": [
      "mean squared error: 213.71410355078606\n",
      "mean absolute error: 10.276051899067053\n",
      "coefficient of determination: 0.7441612007118529\n"
     ]
    }
   ],
   "source": [
    "# Ahora vamos a verlo en números: aunque el coeficiente de determinación de determinación ha disminuido , vemos que tanto MSE como MAE han\n",
    "# MSE como MAE han mejorado considerablemente\n",
    "\n",
    "print('mean squared error:', mean_squared_error(y, y_pred)) # MSE en ejercicio 2 = 322.5925\n",
    "print('mean absolute error:', mean_absolute_error(y, y_pred)) # MSE en ejercicio 2 = 11.3846\n",
    "print('coefficient of determination:', r_sq) # R_sq en ejercicio 1 = 0.89"
   ]
  },
  {
   "cell_type": "markdown",
   "metadata": {},
   "source": [
    "         "
   ]
  },
  {
   "cell_type": "markdown",
   "metadata": {},
   "source": [
    "### <span style=\"color:black\">Exercici 6.</span>"
   ]
  },
  {
   "cell_type": "markdown",
   "metadata": {},
   "source": [
    "__No utilitzis la variable DepDelay a l’hora de fer prediccions:__ <span style=\"color:blue\">__[X] Fet__</span>"
   ]
  },
  {
   "cell_type": "code",
   "execution_count": 256,
   "metadata": {},
   "outputs": [],
   "source": [
    "# Como no podemos utilizar la variable DepDelay, vamos a realizar un sumatorio de las variables donde se describe el motivo \n",
    "# de los retrasos (LateAircraftDelay, CarrierDelay, NASDelay, SecurityDelay y WeatherDelay), expresadas también en minutos, \n",
    "# para intentar predecir el retraso, ArrDelay, en cada caso. "
   ]
  },
  {
   "cell_type": "code",
   "execution_count": 168,
   "metadata": {},
   "outputs": [],
   "source": [
    "suma = file[\"LateAircraftDelay\"] + file[\"CarrierDelay\"] + file[\"NASDelay\"] + file[\"SecurityDelay\"] + file[\"WeatherDelay\"]\n",
    "\n",
    "data = pd.DataFrame()\n",
    "data[\"Delay\"] = suma\n",
    "X = np.array(data) # variables independientes (la suma de retrasos provocados por diversos motivos)\n",
    "y= file['ArrDelay'] #variable dependiente (retraso en la llegada)"
   ]
  },
  {
   "cell_type": "code",
   "execution_count": 169,
   "metadata": {},
   "outputs": [],
   "source": [
    "X_train, X_test, y_train, y_test = train_test_split(X, y, test_size=0.2, random_state=0)"
   ]
  },
  {
   "cell_type": "code",
   "execution_count": 170,
   "metadata": {},
   "outputs": [],
   "source": [
    "model = LinearRegression().fit(X_train, y_train) \n",
    "y_pred = model.predict(X_test) # Ahora hagamos una predicción sobre los datos de la prueba."
   ]
  },
  {
   "cell_type": "code",
   "execution_count": 171,
   "metadata": {},
   "outputs": [
    {
     "data": {
      "text/html": [
       "<div>\n",
       "<style scoped>\n",
       "    .dataframe tbody tr th:only-of-type {\n",
       "        vertical-align: middle;\n",
       "    }\n",
       "\n",
       "    .dataframe tbody tr th {\n",
       "        vertical-align: top;\n",
       "    }\n",
       "\n",
       "    .dataframe thead th {\n",
       "        text-align: right;\n",
       "    }\n",
       "</style>\n",
       "<table border=\"1\" class=\"dataframe\">\n",
       "  <thead>\n",
       "    <tr style=\"text-align: right;\">\n",
       "      <th></th>\n",
       "      <th>Actual</th>\n",
       "      <th>Predicted</th>\n",
       "    </tr>\n",
       "  </thead>\n",
       "  <tbody>\n",
       "    <tr>\n",
       "      <th>595091</th>\n",
       "      <td>9.0</td>\n",
       "      <td>42.190040</td>\n",
       "    </tr>\n",
       "    <tr>\n",
       "      <th>699277</th>\n",
       "      <td>-3.0</td>\n",
       "      <td>42.190040</td>\n",
       "    </tr>\n",
       "    <tr>\n",
       "      <th>513280</th>\n",
       "      <td>13.0</td>\n",
       "      <td>42.190040</td>\n",
       "    </tr>\n",
       "    <tr>\n",
       "      <th>555111</th>\n",
       "      <td>11.0</td>\n",
       "      <td>42.190040</td>\n",
       "    </tr>\n",
       "    <tr>\n",
       "      <th>1269142</th>\n",
       "      <td>19.0</td>\n",
       "      <td>-2.105631</td>\n",
       "    </tr>\n",
       "  </tbody>\n",
       "</table>\n",
       "</div>"
      ],
      "text/plain": [
       "         Actual  Predicted\n",
       "595091      9.0  42.190040\n",
       "699277     -3.0  42.190040\n",
       "513280     13.0  42.190040\n",
       "555111     11.0  42.190040\n",
       "1269142    19.0  -2.105631"
      ]
     },
     "execution_count": 171,
     "metadata": {},
     "output_type": "execute_result"
    }
   ],
   "source": [
    "df = pd.DataFrame({'Actual': y_test, 'Predicted': y_pred}) #Revisemos la diferencia entre el valor real y el valor previsto.\n",
    "df.head()\n",
    "df.head()"
   ]
  },
  {
   "cell_type": "code",
   "execution_count": 172,
   "metadata": {},
   "outputs": [
    {
     "data": {
      "text/html": [
       "<div>\n",
       "<style scoped>\n",
       "    .dataframe tbody tr th:only-of-type {\n",
       "        vertical-align: middle;\n",
       "    }\n",
       "\n",
       "    .dataframe tbody tr th {\n",
       "        vertical-align: top;\n",
       "    }\n",
       "\n",
       "    .dataframe thead th {\n",
       "        text-align: right;\n",
       "    }\n",
       "</style>\n",
       "<table border=\"1\" class=\"dataframe\">\n",
       "  <thead>\n",
       "    <tr style=\"text-align: right;\">\n",
       "      <th></th>\n",
       "      <th>Actual</th>\n",
       "      <th>Predicted</th>\n",
       "    </tr>\n",
       "  </thead>\n",
       "  <tbody>\n",
       "    <tr>\n",
       "      <th>387347</th>\n",
       "      <td>147.0</td>\n",
       "      <td>125.907265</td>\n",
       "    </tr>\n",
       "    <tr>\n",
       "      <th>387348</th>\n",
       "      <td>9.0</td>\n",
       "      <td>42.190040</td>\n",
       "    </tr>\n",
       "    <tr>\n",
       "      <th>387349</th>\n",
       "      <td>36.0</td>\n",
       "      <td>14.896082</td>\n",
       "    </tr>\n",
       "    <tr>\n",
       "      <th>387350</th>\n",
       "      <td>41.0</td>\n",
       "      <td>19.896585</td>\n",
       "    </tr>\n",
       "    <tr>\n",
       "      <th>387351</th>\n",
       "      <td>72.0</td>\n",
       "      <td>50.899709</td>\n",
       "    </tr>\n",
       "  </tbody>\n",
       "</table>\n",
       "</div>"
      ],
      "text/plain": [
       "        Actual   Predicted\n",
       "387347   147.0  125.907265\n",
       "387348     9.0   42.190040\n",
       "387349    36.0   14.896082\n",
       "387350    41.0   19.896585\n",
       "387351    72.0   50.899709"
      ]
     },
     "execution_count": 172,
     "metadata": {},
     "output_type": "execute_result"
    }
   ],
   "source": [
    "y_test = y_test.values.reshape(387352, 1) # pasamos el df a numpy para graficar\n",
    "df = pd.DataFrame({'Actual': y_test.flatten(), 'Predicted': y_pred.flatten()}) # el método flatten() devuelve una copia del array a una única dimensión\n",
    "df.tail()"
   ]
  },
  {
   "cell_type": "code",
   "execution_count": 187,
   "metadata": {},
   "outputs": [
    {
     "data": {
      "image/png": "[encoded data removed]",
      "text/plain": [
       "<Figure size 1008x648 with 1 Axes>"
      ]
     },
     "metadata": {
      "needs_background": "light"
     },
     "output_type": "display_data"
    }
   ],
   "source": [
    "# Aunque nuestro modelo no es muy preciso, los porcentajes predichos se acercan a los reales.\n",
    "\n",
    "df1 = df.tail(30) # Vamos a graficar las 30 últimas entradas \n",
    "\n",
    "df1.plot(kind='bar',figsize=(14,9))\n",
    "plt.show()"
   ]
  },
  {
   "cell_type": "code",
   "execution_count": 186,
   "metadata": {},
   "outputs": [
    {
     "data": {
      "image/png": "[encoded data removed]",
      "text/plain": [
       "<Figure size 1008x432 with 1 Axes>"
      ]
     },
     "metadata": {
      "needs_background": "light"
     },
     "output_type": "display_data"
    }
   ],
   "source": [
    "# Vamos a trazar nuestra línea recta con los datos de la prueba para ver la predicción. La línea recta del gráfico\n",
    "# muestra que nuestro algoritmo es muy correcto. \n",
    "\n",
    "fig, ax = plt.subplots(figsize = (14, 6))\n",
    "plt.scatter(df['Actual'], df['Predicted'], color='green', s=300)\n",
    "plt.plot(X_test, y_pred, color='pink', linewidth=2)\n",
    "plt.show()"
   ]
  },
  {
   "cell_type": "code",
   "execution_count": 176,
   "metadata": {},
   "outputs": [
    {
     "name": "stdout",
     "output_type": "stream",
     "text": [
      "El coeficiente de determinación es:  0.7405150029989125\n"
     ]
    }
   ],
   "source": [
    "r_sq = model.score(X, y)\n",
    "print('El coeficiente de determinación es: ', r_sq)"
   ]
  },
  {
   "cell_type": "code",
   "execution_count": null,
   "metadata": {},
   "outputs": [],
   "source": []
  }
 ],
 "metadata": {
  "kernelspec": {
   "display_name": "Python 3",
   "language": "python",
   "name": "python3"
  },
  "language_info": {
   "codemirror_mode": {
    "name": "ipython",
    "version": 3
   },
   "file_extension": ".py",
   "mimetype": "text/x-python",
   "name": "python",
   "nbconvert_exporter": "python",
   "pygments_lexer": "ipython3",
   "version": "3.7.4"
  }
 },
 "nbformat": 4,
 "nbformat_minor": 4
}
